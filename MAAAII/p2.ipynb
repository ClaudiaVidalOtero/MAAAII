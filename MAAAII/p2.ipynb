{
 "cells": [
  {
   "cell_type": "markdown",
   "metadata": {},
   "source": [
    "# P2 MAAAI "
   ]
  },
  {
   "cell_type": "markdown",
   "metadata": {},
   "source": [
    "PREPROCESADO DE DATOS:"
   ]
  },
  {
   "cell_type": "code",
   "execution_count": 6,
   "metadata": {},
   "outputs": [],
   "source": [
    "import tensorflow as tf\n",
    "from tensorflow.keras.datasets import cifar100\n",
    "import numpy as np"
   ]
  },
  {
   "cell_type": "code",
   "execution_count": 7,
   "metadata": {},
   "outputs": [
    {
     "name": "stdout",
     "output_type": "stream",
     "text": [
      "Entrenamiento: (50000, 32, 32, 3), Prueba: (10000, 32, 32, 3)\n",
      "Instancias de entrenamiento etiquetadas: (10000, 32, 32, 3), No etiquetadas: (40000, 32, 32, 3)\n"
     ]
    }
   ],
   "source": [
    "\n",
    "# Cargar el conjunto de datos CIFAR-100\n",
    "(x_train, y_train), (x_test, y_test) = cifar100.load_data()\n",
    "\n",
    "print(f\"Entrenamiento: {x_train.shape}, Prueba: {x_test.shape}\")\n",
    "\n",
    "# Eliminamos el 80% de las etiquetas en el conjunto de entrenamiento\n",
    "np.random.seed(42)\n",
    "unlabeled_indices = np.random.choice(len(x_train), size=int(0.8 * len(x_train)), replace=False)\n",
    "labeled_indices = np.setdiff1d(np.arange(len(x_train)), unlabeled_indices)\n",
    "\n",
    "# Creamos las particiones de datos\n",
    "x_train_labeled = x_train[labeled_indices]\n",
    "y_train_labeled = y_train[labeled_indices]\n",
    "x_train_unlabeled = x_train[unlabeled_indices]\n",
    "y_train_unlabeled = y_train[unlabeled_indices]  \n",
    "\n",
    "print(f\"Instancias de entrenamiento etiquetadas: {x_train_labeled.shape}, No etiquetadas: {x_train_unlabeled.shape}\")\n"
   ]
  },
  {
   "cell_type": "markdown",
   "metadata": {},
   "source": [
    "CREACIÓN DE LA RED NEURONAL CONVOLUCIONAL"
   ]
  },
  {
   "cell_type": "code",
   "execution_count": 25,
   "metadata": {},
   "outputs": [],
   "source": [
    "from tensorflow.keras import layers, models"
   ]
  },
  {
   "cell_type": "code",
   "execution_count": 42,
   "metadata": {},
   "outputs": [],
   "source": [
    "import tensorflow as tf\n",
    "from tensorflow.keras import layers, models, regularizers\n",
    "\n",
    "def crear_modelo():\n",
    "    model = models.Sequential()\n",
    "    \n",
    "    # Capa convolucional 1\n",
    "    model.add(layers.Conv2D(64, (3, 3), activation='relu', padding='same',\n",
    "                             kernel_regularizer=regularizers.l2(0.0001), input_shape=(32, 32, 3)))\n",
    "    model.add(layers.BatchNormalization())\n",
    "    model.add(layers.MaxPooling2D((2, 2)))\n",
    "    \n",
    "    # Capa convolucional 2\n",
    "    model.add(layers.Conv2D(128, (3, 3), activation='relu', padding='same', kernel_regularizer=regularizers.l2(0.001)))\n",
    "    model.add(layers.BatchNormalization())\n",
    "    model.add(layers.MaxPooling2D((2, 2)))\n",
    "    \n",
    "    # Capa convolucional 3\n",
    "    model.add(layers.Conv2D(256, (3, 3), activation='relu', padding='same', kernel_regularizer=regularizers.l2(0.001)))\n",
    "    model.add(layers.BatchNormalization())\n",
    "    model.add(layers.MaxPooling2D((2, 2)))\n",
    "    \n",
    "    # Capa convolucional 4\n",
    "    model.add(layers.Conv2D(512, (3, 3), activation='relu', padding='same', kernel_regularizer=regularizers.l2(0.001)))\n",
    "    model.add(layers.BatchNormalization())\n",
    "    model.add(layers.MaxPooling2D((2, 2)))\n",
    "    \n",
    "    # Aplanamos las salidas\n",
    "    model.add(layers.Flatten())\n",
    "    \n",
    "    # Capa densa 1\n",
    "    model.add(layers.Dense(1000, activation='relu', kernel_regularizer=regularizers.l2(0.001)))\n",
    "    model.add(layers.BatchNormalization())\n",
    "    \n",
    "    # Capa densa 2\n",
    "    model.add(layers.Dense(512, activation='relu', kernel_regularizer=regularizers.l2(0.001)))\n",
    "    model.add(layers.BatchNormalization())\n",
    "    \n",
    "    # Capa de salida\n",
    "    model.add(layers.Dense(100, activation='softmax'))\n",
    "    \n",
    "    # Compilamos el modelo\n",
    "    model.compile(optimizer=tf.keras.optimizers.Adam(learning_rate=0.005),\n",
    "                  loss='sparse_categorical_crossentropy',\n",
    "                  metrics=['accuracy'])\n",
    "    \n",
    "    return model\n",
    "\n",
    "model = crear_modelo()\n",
    "\n",
    "early_stopping = tf.keras.callbacks.EarlyStopping(monitor='val_loss', patience=10, restore_best_weights=True)"
   ]
  },
  {
   "cell_type": "code",
   "execution_count": 43,
   "metadata": {},
   "outputs": [
    {
     "name": "stdout",
     "output_type": "stream",
     "text": [
      "Epoch 1/30\n",
      "\u001b[1m40/40\u001b[0m \u001b[32m━━━━━━━━━━━━━━━━━━━━\u001b[0m\u001b[37m\u001b[0m \u001b[1m44s\u001b[0m 958ms/step - accuracy: 0.0587 - loss: 8.3293\n",
      "Epoch 2/30\n",
      "\u001b[1m40/40\u001b[0m \u001b[32m━━━━━━━━━━━━━━━━━━━━\u001b[0m\u001b[37m\u001b[0m \u001b[1m37s\u001b[0m 918ms/step - accuracy: 0.1102 - loss: 7.2294\n",
      "Epoch 3/30\n",
      "\u001b[1m40/40\u001b[0m \u001b[32m━━━━━━━━━━━━━━━━━━━━\u001b[0m\u001b[37m\u001b[0m \u001b[1m38s\u001b[0m 952ms/step - accuracy: 0.1540 - loss: 5.6007\n",
      "Epoch 4/30\n",
      "\u001b[1m40/40\u001b[0m \u001b[32m━━━━━━━━━━━━━━━━━━━━\u001b[0m\u001b[37m\u001b[0m \u001b[1m42s\u001b[0m 1s/step - accuracy: 0.1685 - loss: 5.1996\n",
      "Epoch 5/30\n",
      "\u001b[1m40/40\u001b[0m \u001b[32m━━━━━━━━━━━━━━━━━━━━\u001b[0m\u001b[37m\u001b[0m \u001b[1m35s\u001b[0m 885ms/step - accuracy: 0.1940 - loss: 5.0825\n",
      "Epoch 6/30\n",
      "\u001b[1m40/40\u001b[0m \u001b[32m━━━━━━━━━━━━━━━━━━━━\u001b[0m\u001b[37m\u001b[0m \u001b[1m34s\u001b[0m 844ms/step - accuracy: 0.2321 - loss: 4.7258\n",
      "Epoch 7/30\n",
      "\u001b[1m40/40\u001b[0m \u001b[32m━━━━━━━━━━━━━━━━━━━━\u001b[0m\u001b[37m\u001b[0m \u001b[1m40s\u001b[0m 998ms/step - accuracy: 0.2531 - loss: 4.6720\n",
      "Epoch 8/30\n",
      "\u001b[1m40/40\u001b[0m \u001b[32m━━━━━━━━━━━━━━━━━━━━\u001b[0m\u001b[37m\u001b[0m \u001b[1m44s\u001b[0m 1s/step - accuracy: 0.2453 - loss: 4.7905\n",
      "Epoch 9/30\n",
      "\u001b[1m40/40\u001b[0m \u001b[32m━━━━━━━━━━━━━━━━━━━━\u001b[0m\u001b[37m\u001b[0m \u001b[1m34s\u001b[0m 857ms/step - accuracy: 0.2776 - loss: 4.8511\n",
      "Epoch 10/30\n",
      "\u001b[1m40/40\u001b[0m \u001b[32m━━━━━━━━━━━━━━━━━━━━\u001b[0m\u001b[37m\u001b[0m \u001b[1m45s\u001b[0m 1s/step - accuracy: 0.3145 - loss: 4.6997\n",
      "Epoch 11/30\n",
      "\u001b[1m40/40\u001b[0m \u001b[32m━━━━━━━━━━━━━━━━━━━━\u001b[0m\u001b[37m\u001b[0m \u001b[1m56s\u001b[0m 1s/step - accuracy: 0.3413 - loss: 4.4936\n",
      "Epoch 12/30\n",
      "\u001b[1m40/40\u001b[0m \u001b[32m━━━━━━━━━━━━━━━━━━━━\u001b[0m\u001b[37m\u001b[0m \u001b[1m51s\u001b[0m 1s/step - accuracy: 0.3453 - loss: 4.5920\n",
      "Epoch 13/30\n",
      "\u001b[1m40/40\u001b[0m \u001b[32m━━━━━━━━━━━━━━━━━━━━\u001b[0m\u001b[37m\u001b[0m \u001b[1m52s\u001b[0m 1s/step - accuracy: 0.3779 - loss: 4.5019\n",
      "Epoch 14/30\n",
      "\u001b[1m40/40\u001b[0m \u001b[32m━━━━━━━━━━━━━━━━━━━━\u001b[0m\u001b[37m\u001b[0m \u001b[1m43s\u001b[0m 1s/step - accuracy: 0.3344 - loss: 4.9993\n",
      "Epoch 15/30\n",
      "\u001b[1m40/40\u001b[0m \u001b[32m━━━━━━━━━━━━━━━━━━━━\u001b[0m\u001b[37m\u001b[0m \u001b[1m44s\u001b[0m 1s/step - accuracy: 0.3717 - loss: 4.9407\n",
      "Epoch 16/30\n",
      "\u001b[1m40/40\u001b[0m \u001b[32m━━━━━━━━━━━━━━━━━━━━\u001b[0m\u001b[37m\u001b[0m \u001b[1m39s\u001b[0m 961ms/step - accuracy: 0.3911 - loss: 4.8068\n",
      "Epoch 17/30\n",
      "\u001b[1m40/40\u001b[0m \u001b[32m━━━━━━━━━━━━━━━━━━━━\u001b[0m\u001b[37m\u001b[0m \u001b[1m41s\u001b[0m 1s/step - accuracy: 0.4120 - loss: 4.6892\n",
      "Epoch 18/30\n",
      "\u001b[1m40/40\u001b[0m \u001b[32m━━━━━━━━━━━━━━━━━━━━\u001b[0m\u001b[37m\u001b[0m \u001b[1m55s\u001b[0m 1s/step - accuracy: 0.4304 - loss: 4.5590\n",
      "Epoch 19/30\n",
      "\u001b[1m40/40\u001b[0m \u001b[32m━━━━━━━━━━━━━━━━━━━━\u001b[0m\u001b[37m\u001b[0m \u001b[1m53s\u001b[0m 1s/step - accuracy: 0.4367 - loss: 4.5348\n",
      "Epoch 20/30\n",
      "\u001b[1m40/40\u001b[0m \u001b[32m━━━━━━━━━━━━━━━━━━━━\u001b[0m\u001b[37m\u001b[0m \u001b[1m52s\u001b[0m 1s/step - accuracy: 0.5096 - loss: 4.1908\n",
      "Epoch 21/30\n",
      "\u001b[1m40/40\u001b[0m \u001b[32m━━━━━━━━━━━━━━━━━━━━\u001b[0m\u001b[37m\u001b[0m \u001b[1m48s\u001b[0m 1s/step - accuracy: 0.4739 - loss: 4.4063\n",
      "Epoch 22/30\n",
      "\u001b[1m40/40\u001b[0m \u001b[32m━━━━━━━━━━━━━━━━━━━━\u001b[0m\u001b[37m\u001b[0m \u001b[1m40s\u001b[0m 996ms/step - accuracy: 0.4854 - loss: 4.4727\n",
      "Epoch 23/30\n",
      "\u001b[1m40/40\u001b[0m \u001b[32m━━━━━━━━━━━━━━━━━━━━\u001b[0m\u001b[37m\u001b[0m \u001b[1m40s\u001b[0m 1s/step - accuracy: 0.5547 - loss: 3.9946\n",
      "Epoch 24/30\n",
      "\u001b[1m40/40\u001b[0m \u001b[32m━━━━━━━━━━━━━━━━━━━━\u001b[0m\u001b[37m\u001b[0m \u001b[1m55s\u001b[0m 1s/step - accuracy: 0.5357 - loss: 4.1357\n",
      "Epoch 25/30\n",
      "\u001b[1m40/40\u001b[0m \u001b[32m━━━━━━━━━━━━━━━━━━━━\u001b[0m\u001b[37m\u001b[0m \u001b[1m38s\u001b[0m 934ms/step - accuracy: 0.5621 - loss: 4.1749\n",
      "Epoch 26/30\n",
      "\u001b[1m40/40\u001b[0m \u001b[32m━━━━━━━━━━━━━━━━━━━━\u001b[0m\u001b[37m\u001b[0m \u001b[1m35s\u001b[0m 883ms/step - accuracy: 0.6005 - loss: 3.8793\n",
      "Epoch 27/30\n",
      "\u001b[1m40/40\u001b[0m \u001b[32m━━━━━━━━━━━━━━━━━━━━\u001b[0m\u001b[37m\u001b[0m \u001b[1m46s\u001b[0m 1s/step - accuracy: 0.5677 - loss: 4.1443\n",
      "Epoch 28/30\n",
      "\u001b[1m40/40\u001b[0m \u001b[32m━━━━━━━━━━━━━━━━━━━━\u001b[0m\u001b[37m\u001b[0m \u001b[1m59s\u001b[0m 1s/step - accuracy: 0.6052 - loss: 4.0335\n",
      "Epoch 29/30\n",
      "\u001b[1m40/40\u001b[0m \u001b[32m━━━━━━━━━━━━━━━━━━━━\u001b[0m\u001b[37m\u001b[0m \u001b[1m45s\u001b[0m 1s/step - accuracy: 0.6372 - loss: 3.7968\n",
      "Epoch 30/30\n",
      "\u001b[1m40/40\u001b[0m \u001b[32m━━━━━━━━━━━━━━━━━━━━\u001b[0m\u001b[37m\u001b[0m \u001b[1m45s\u001b[0m 1s/step - accuracy: 0.6539 - loss: 3.6988\n"
     ]
    }
   ],
   "source": [
    "#ENTRENAMIENTO\n",
    "history = model.fit(x_train_labeled, y_train_labeled, epochs=30, batch_size=256)"
   ]
  },
  {
   "cell_type": "code",
   "execution_count": 44,
   "metadata": {},
   "outputs": [
    {
     "name": "stdout",
     "output_type": "stream",
     "text": [
      "313/313 - 18s - 56ms/step - accuracy: 0.2600 - loss: 6.0727\n",
      "Rendimiento en la prueba: Pérdida = 6.0727033615112305, Precisión = 0.25999999046325684\n"
     ]
    }
   ],
   "source": [
    "#CONJUNTO DE PRUEBA\n",
    "test_loss, test_acc = model.evaluate(x_test, y_test, verbose=2)\n",
    "\n",
    "print(f\"Rendimiento en la prueba: Pérdida = {test_loss}, Precisión = {test_acc}\")"
   ]
  },
  {
   "cell_type": "code",
   "execution_count": 2,
   "metadata": {},
   "outputs": [],
   "source": [
    "import tensorflow as tf\n",
    "from tensorflow.keras import layers, models, regularizers\n",
    "from tensorflow.keras.callbacks import EarlyStopping, ReduceLROnPlateau\n"
   ]
  },
  {
   "cell_type": "code",
   "execution_count": null,
   "metadata": {},
   "outputs": [
    {
     "name": "stdout",
     "output_type": "stream",
     "text": [
      "Epoch 1/30\n",
      "\u001b[1m40/40\u001b[0m \u001b[32m━━━━━━━━━━━━━━━━━━━━\u001b[0m\u001b[37m\u001b[0m \u001b[1m29s\u001b[0m 342ms/step - accuracy: 0.0339 - loss: 5.3104 - val_accuracy: 0.0191 - val_loss: 30.1947 - learning_rate: 0.0100\n",
      "Epoch 2/30\n",
      "\u001b[1m40/40\u001b[0m \u001b[32m━━━━━━━━━━━━━━━━━━━━\u001b[0m\u001b[37m\u001b[0m \u001b[1m14s\u001b[0m 343ms/step - accuracy: 0.1002 - loss: 4.4357 - val_accuracy: 0.0451 - val_loss: 8.0438 - learning_rate: 0.0100\n",
      "Epoch 3/30\n",
      "\u001b[1m40/40\u001b[0m \u001b[32m━━━━━━━━━━━━━━━━━━━━\u001b[0m\u001b[37m\u001b[0m \u001b[1m13s\u001b[0m 337ms/step - accuracy: 0.1301 - loss: 4.0582 - val_accuracy: 0.0639 - val_loss: 6.2281 - learning_rate: 0.0100\n",
      "Epoch 4/30\n",
      "\u001b[1m40/40\u001b[0m \u001b[32m━━━━━━━━━━━━━━━━━━━━\u001b[0m\u001b[37m\u001b[0m \u001b[1m14s\u001b[0m 353ms/step - accuracy: 0.1669 - loss: 3.8037 - val_accuracy: 0.0779 - val_loss: 5.6539 - learning_rate: 0.0100\n",
      "Epoch 5/30\n",
      "\u001b[1m40/40\u001b[0m \u001b[32m━━━━━━━━━━━━━━━━━━━━\u001b[0m\u001b[37m\u001b[0m \u001b[1m14s\u001b[0m 340ms/step - accuracy: 0.1992 - loss: 3.5936 - val_accuracy: 0.1385 - val_loss: 4.2949 - learning_rate: 0.0100\n",
      "Epoch 6/30\n",
      "\u001b[1m40/40\u001b[0m \u001b[32m━━━━━━━━━━━━━━━━━━━━\u001b[0m\u001b[37m\u001b[0m \u001b[1m14s\u001b[0m 359ms/step - accuracy: 0.2503 - loss: 3.3439 - val_accuracy: 0.1757 - val_loss: 3.8080 - learning_rate: 0.0100\n",
      "Epoch 7/30\n",
      "\u001b[1m40/40\u001b[0m \u001b[32m━━━━━━━━━━━━━━━━━━━━\u001b[0m\u001b[37m\u001b[0m \u001b[1m14s\u001b[0m 363ms/step - accuracy: 0.2710 - loss: 3.2343 - val_accuracy: 0.1892 - val_loss: 3.8242 - learning_rate: 0.0100\n",
      "Epoch 8/30\n",
      "\u001b[1m40/40\u001b[0m \u001b[32m━━━━━━━━━━━━━━━━━━━━\u001b[0m\u001b[37m\u001b[0m \u001b[1m14s\u001b[0m 341ms/step - accuracy: 0.2898 - loss: 3.1612 - val_accuracy: 0.1943 - val_loss: 3.9628 - learning_rate: 0.0100\n",
      "Epoch 9/30\n",
      "\u001b[1m40/40\u001b[0m \u001b[32m━━━━━━━━━━━━━━━━━━━━\u001b[0m\u001b[37m\u001b[0m \u001b[1m15s\u001b[0m 371ms/step - accuracy: 0.3123 - loss: 3.1274 - val_accuracy: 0.2255 - val_loss: 3.7226 - learning_rate: 0.0100\n",
      "Epoch 10/30\n",
      "\u001b[1m40/40\u001b[0m \u001b[32m━━━━━━━━━━━━━━━━━━━━\u001b[0m\u001b[37m\u001b[0m \u001b[1m15s\u001b[0m 366ms/step - accuracy: 0.3488 - loss: 3.0124 - val_accuracy: 0.1806 - val_loss: 4.3437 - learning_rate: 0.0100\n",
      "Epoch 11/30\n",
      "\u001b[1m40/40\u001b[0m \u001b[32m━━━━━━━━━━━━━━━━━━━━\u001b[0m\u001b[37m\u001b[0m \u001b[1m14s\u001b[0m 340ms/step - accuracy: 0.3650 - loss: 2.9090 - val_accuracy: 0.2354 - val_loss: 3.8788 - learning_rate: 0.0100\n",
      "Epoch 12/30\n",
      "\u001b[1m40/40\u001b[0m \u001b[32m━━━━━━━━━━━━━━━━━━━━\u001b[0m\u001b[37m\u001b[0m \u001b[1m14s\u001b[0m 347ms/step - accuracy: 0.4030 - loss: 2.8441 - val_accuracy: 0.2036 - val_loss: 4.3876 - learning_rate: 0.0100\n",
      "Epoch 13/30\n",
      "\u001b[1m40/40\u001b[0m \u001b[32m━━━━━━━━━━━━━━━━━━━━\u001b[0m\u001b[37m\u001b[0m \u001b[1m14s\u001b[0m 343ms/step - accuracy: 0.4079 - loss: 2.8670 - val_accuracy: 0.2525 - val_loss: 3.7953 - learning_rate: 0.0100\n",
      "Epoch 14/30\n",
      "\u001b[1m40/40\u001b[0m \u001b[32m━━━━━━━━━━━━━━━━━━━━\u001b[0m\u001b[37m\u001b[0m \u001b[1m13s\u001b[0m 336ms/step - accuracy: 0.4421 - loss: 2.7554 - val_accuracy: 0.2655 - val_loss: 3.8651 - learning_rate: 0.0100\n",
      "Epoch 15/30\n",
      "\u001b[1m40/40\u001b[0m \u001b[32m━━━━━━━━━━━━━━━━━━━━\u001b[0m\u001b[37m\u001b[0m \u001b[1m14s\u001b[0m 358ms/step - accuracy: 0.5205 - loss: 2.5222 - val_accuracy: 0.3130 - val_loss: 3.5625 - learning_rate: 0.0050\n",
      "Epoch 16/30\n",
      "\u001b[1m40/40\u001b[0m \u001b[32m━━━━━━━━━━━━━━━━━━━━\u001b[0m\u001b[37m\u001b[0m \u001b[1m16s\u001b[0m 411ms/step - accuracy: 0.5809 - loss: 2.2099 - val_accuracy: 0.3073 - val_loss: 3.6790 - learning_rate: 0.0050\n",
      "Epoch 17/30\n",
      "\u001b[1m40/40\u001b[0m \u001b[32m━━━━━━━━━━━━━━━━━━━━\u001b[0m\u001b[37m\u001b[0m \u001b[1m15s\u001b[0m 374ms/step - accuracy: 0.6273 - loss: 2.0092 - val_accuracy: 0.3059 - val_loss: 3.6469 - learning_rate: 0.0050\n",
      "Epoch 18/30\n",
      "\u001b[1m40/40\u001b[0m \u001b[32m━━━━━━━━━━━━━━━━━━━━\u001b[0m\u001b[37m\u001b[0m \u001b[1m14s\u001b[0m 341ms/step - accuracy: 0.6583 - loss: 1.8884 - val_accuracy: 0.2702 - val_loss: 3.9559 - learning_rate: 0.0050\n",
      "Epoch 19/30\n",
      "\u001b[1m40/40\u001b[0m \u001b[32m━━━━━━━━━━━━━━━━━━━━\u001b[0m\u001b[37m\u001b[0m \u001b[1m13s\u001b[0m 329ms/step - accuracy: 0.6626 - loss: 1.8709 - val_accuracy: 0.2932 - val_loss: 3.8526 - learning_rate: 0.0050\n",
      "Epoch 20/30\n",
      "\u001b[1m40/40\u001b[0m \u001b[32m━━━━━━━━━━━━━━━━━━━━\u001b[0m\u001b[37m\u001b[0m \u001b[1m14s\u001b[0m 339ms/step - accuracy: 0.6832 - loss: 1.7999 - val_accuracy: 0.3154 - val_loss: 3.7980 - learning_rate: 0.0050\n",
      "Epoch 21/30\n",
      "\u001b[1m40/40\u001b[0m \u001b[32m━━━━━━━━━━━━━━━━━━━━\u001b[0m\u001b[37m\u001b[0m \u001b[1m13s\u001b[0m 335ms/step - accuracy: 0.7585 - loss: 1.5875 - val_accuracy: 0.3097 - val_loss: 3.7694 - learning_rate: 0.0025\n",
      "Epoch 22/30\n",
      "\u001b[1m40/40\u001b[0m \u001b[32m━━━━━━━━━━━━━━━━━━━━\u001b[0m\u001b[37m\u001b[0m \u001b[1m22s\u001b[0m 555ms/step - accuracy: 0.8035 - loss: 1.4131 - val_accuracy: 0.3184 - val_loss: 3.7267 - learning_rate: 0.0025\n",
      "Epoch 23/30\n",
      "\u001b[1m40/40\u001b[0m \u001b[32m━━━━━━━━━━━━━━━━━━━━\u001b[0m\u001b[37m\u001b[0m \u001b[1m21s\u001b[0m 532ms/step - accuracy: 0.8343 - loss: 1.2927 - val_accuracy: 0.3142 - val_loss: 3.8698 - learning_rate: 0.0025\n",
      "Epoch 24/30\n",
      "\u001b[1m40/40\u001b[0m \u001b[32m━━━━━━━━━━━━━━━━━━━━\u001b[0m\u001b[37m\u001b[0m \u001b[1m23s\u001b[0m 578ms/step - accuracy: 0.8477 - loss: 1.2431 - val_accuracy: 0.3144 - val_loss: 3.8748 - learning_rate: 0.0025\n",
      "Epoch 25/30\n",
      "\u001b[1m40/40\u001b[0m \u001b[32m━━━━━━━━━━━━━━━━━━━━\u001b[0m\u001b[37m\u001b[0m \u001b[1m26s\u001b[0m 646ms/step - accuracy: 0.8592 - loss: 1.1767 - val_accuracy: 0.3105 - val_loss: 3.9596 - learning_rate: 0.0025\n"
     ]
    }
   ],
   "source": [
    "\n",
    "import tensorflow as tf\n",
    "from tensorflow.keras import layers, models, regularizers\n",
    "from tensorflow.keras.callbacks import EarlyStopping, ReduceLROnPlateau\n",
    "\n",
    "def crear_modelo():\n",
    "    model = models.Sequential()\n",
    "\n",
    "    # Bloque convolucional 1\n",
    "    model.add(layers.Conv2D(32, (3, 3), activation='relu', padding='same',\n",
    "                             kernel_regularizer=regularizers.l2(0.00005), input_shape=(32, 32, 3)))\n",
    "    model.add(layers.BatchNormalization())\n",
    "    model.add(layers.MaxPooling2D((2, 2)))\n",
    "\n",
    "    # Bloque convolucional 2\n",
    "    model.add(layers.Conv2D(64, (3, 3), activation='relu', padding='same',\n",
    "                             kernel_regularizer=regularizers.l2(0.00005)))\n",
    "    model.add(layers.BatchNormalization())\n",
    "    model.add(layers.MaxPooling2D((2, 2)))\n",
    "\n",
    "    # Bloque convolucional 3\n",
    "    model.add(layers.Conv2D(128, (3, 3), activation='relu', padding='same',\n",
    "                             kernel_regularizer=regularizers.l2(0.00005)))\n",
    "    model.add(layers.BatchNormalization())\n",
    "    model.add(layers.MaxPooling2D((2, 2)))\n",
    "\n",
    "    # Aplanar\n",
    "    model.add(layers.Flatten())\n",
    "\n",
    "    # Bloque denso 1\n",
    "    model.add(layers.Dense(256, activation='relu', kernel_regularizer=regularizers.l2(0.0001)))\n",
    "    model.add(layers.BatchNormalization())\n",
    "    model.add(layers.Dropout(0.6))\n",
    "\n",
    "    # Capa de salida\n",
    "    model.add(layers.Dense(100, activation='softmax'))\n",
    "\n",
    "    # Compilación del modelo\n",
    "    model.compile(optimizer=tf.keras.optimizers.Adam(learning_rate=0.01),\n",
    "                  loss='sparse_categorical_crossentropy',\n",
    "                  metrics=['accuracy'])\n",
    "\n",
    "    return model\n",
    "\n",
    "\n",
    "# Crear modelo\n",
    "model_mejorado = crear_modelo()\n",
    "\n",
    "# Callbacks para mejorar el entrenamiento\n",
    "callbacks = [\n",
    "    EarlyStopping(monitor='val_loss', patience=10, restore_best_weights=True),\n",
    "    ReduceLROnPlateau(monitor='val_loss', factor=0.5, patience=5, min_lr=1e-6)\n",
    "]\n",
    "\n",
    "# Entrenamiento del modelo\n",
    "history = model_mejorado.fit(\n",
    "    x_train_labeled, y_train_labeled,\n",
    "    epochs=20,\n",
    "    batch_size=128,\n",
    "    validation_data=(x_test, y_test),\n",
    "    callbacks=callbacks\n",
    ")\n",
    "\n",
    "\n"
   ]
  },
  {
   "cell_type": "code",
   "execution_count": 28,
   "metadata": {},
   "outputs": [
    {
     "name": "stdout",
     "output_type": "stream",
     "text": [
      "313/313 - 3s - 8ms/step - accuracy: 0.3130 - loss: 3.5625\n",
      "Self-training: Train Accuracy: 0.7486 - Test Accuracy: 0.3130\n"
     ]
    }
   ],
   "source": [
    "# Evaluamos el rendimiento en el conjunto de prueba\n",
    "train_loss, train_acc = model_mejorado.evaluate(x_train_labeled, y_train_labeled, verbose=0)\n",
    "test_loss, test_acc = model_mejorado.evaluate(x_test, y_test, verbose=2)\n",
    "print(\"Self-training: Train Accuracy: {:.4f} - Test Accuracy: {:.4f}\".format(train_acc, test_acc))\n"
   ]
  },
  {
   "cell_type": "code",
   "execution_count": null,
   "metadata": {},
   "outputs": [],
   "source": []
  }
 ],
 "metadata": {
  "kernelspec": {
   "display_name": "Python 3",
   "language": "python",
   "name": "python3"
  },
  "language_info": {
   "codemirror_mode": {
    "name": "ipython",
    "version": 3
   },
   "file_extension": ".py",
   "mimetype": "text/x-python",
   "name": "python",
   "nbconvert_exporter": "python",
   "pygments_lexer": "ipython3",
   "version": "3.12.6"
  }
 },
 "nbformat": 4,
 "nbformat_minor": 2
}
