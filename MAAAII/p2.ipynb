{
 "cells": [
  {
   "cell_type": "markdown",
   "metadata": {},
   "source": [
    "# P2 MAAAI "
   ]
  },
  {
   "cell_type": "markdown",
   "metadata": {},
   "source": [
    "PREPROCESADO DE DATOS:"
   ]
  },
  {
   "cell_type": "code",
   "execution_count": 59,
   "metadata": {},
   "outputs": [],
   "source": [
    "import tensorflow as tf\n",
    "from tensorflow.keras.datasets import cifar100\n",
    "import numpy as np"
   ]
  },
  {
   "cell_type": "code",
   "execution_count": 60,
   "metadata": {},
   "outputs": [
    {
     "name": "stdout",
     "output_type": "stream",
     "text": [
      "Etiquetadas: (10000, 32, 32, 3), No etiquetadas: (40000, 32, 32, 3)\n"
     ]
    }
   ],
   "source": [
    "\n",
    "\n",
    "# Cargar CIFAR-100\n",
    "(x_train, y_train), (x_test, y_test) = cifar100.load_data()\n",
    "x_train = x_train.astype('float32') / 255.0  # Normalizar imágenes a [0,1]\n",
    "x_test = x_test.astype('float32') / 255.0\n",
    "\n",
    "# Dividir en datos etiquetados y no etiquetados (80% sin etiquetas)\n",
    "np.random.seed(42)\n",
    "unlabeled_indices = np.random.choice(len(x_train), size=int(0.8 * len(x_train)), replace=False)\n",
    "labeled_indices = np.setdiff1d(np.arange(len(x_train)), unlabeled_indices)\n",
    "\n",
    "x_train_labeled = x_train[labeled_indices]\n",
    "y_train_labeled = y_train[labeled_indices]\n",
    "x_train_unlabeled = x_train[unlabeled_indices]\n",
    "\n",
    "print(f\"Etiquetadas: {x_train_labeled.shape}, No etiquetadas: {x_train_unlabeled.shape}\")"
   ]
  },
  {
   "cell_type": "markdown",
   "metadata": {},
   "source": [
    "CREACIÓN DE LA RED NEURONAL CONVOLUCIONAL"
   ]
  },
  {
   "cell_type": "code",
   "execution_count": 61,
   "metadata": {},
   "outputs": [],
   "source": [
    "from tensorflow.keras import layers, models, regularizers\n",
    "from tensorflow.keras.callbacks import EarlyStopping\n"
   ]
  },
  {
   "cell_type": "code",
   "execution_count": 62,
   "metadata": {},
   "outputs": [],
   "source": [
    "\n",
    "def crear_modelo():\n",
    "    model = models.Sequential()\n",
    "\n",
    "    # Bloque convolucional 1\n",
    "    model.add(layers.Conv2D(32, (3, 3), activation='relu', padding='same',\n",
    "                             kernel_regularizer=regularizers.l2(0.00005), input_shape=(32, 32, 3)))\n",
    "    model.add(layers.BatchNormalization())\n",
    "    model.add(layers.MaxPooling2D((2, 2)))\n",
    "\n",
    "    # Bloque convolucional 2\n",
    "    model.add(layers.Conv2D(64, (3, 3), activation='relu', padding='same',\n",
    "                             kernel_regularizer=regularizers.l2(0.00005)))\n",
    "    model.add(layers.BatchNormalization())\n",
    "    model.add(layers.MaxPooling2D((2, 2)))\n",
    "\n",
    "    # Bloque convolucional 3\n",
    "    model.add(layers.Conv2D(128, (3, 3), activation='relu', padding='same',\n",
    "                             kernel_regularizer=regularizers.l2(0.00005)))\n",
    "    model.add(layers.BatchNormalization())\n",
    "    model.add(layers.MaxPooling2D((2, 2)))\n",
    "\n",
    "    # Aplanar\n",
    "    model.add(layers.Flatten())\n",
    "\n",
    "    # Bloque denso 1\n",
    "    model.add(layers.Dense(256, activation='relu', kernel_regularizer=regularizers.l2(0.0001)))\n",
    "    model.add(layers.BatchNormalization())\n",
    "    model.add(layers.Dropout(0.6))\n",
    "\n",
    "    # Capa de salida\n",
    "    model.add(layers.Dense(100, activation='softmax'))\n",
    "\n",
    "    # Compilación del modelo\n",
    "    model.compile(optimizer=tf.keras.optimizers.Adam(learning_rate=0.001),\n",
    "                  loss='sparse_categorical_crossentropy',\n",
    "                  metrics=['accuracy'])\n",
    "\n",
    "    return model\n",
    "\n"
   ]
  },
  {
   "cell_type": "code",
   "execution_count": 63,
   "metadata": {},
   "outputs": [
    {
     "name": "stdout",
     "output_type": "stream",
     "text": [
      "Epoch 1/20\n",
      "\u001b[1m40/40\u001b[0m \u001b[32m━━━━━━━━━━━━━━━━━━━━\u001b[0m\u001b[37m\u001b[0m \u001b[1m25s\u001b[0m 368ms/step - accuracy: 0.0304 - loss: 5.4930 - val_accuracy: 0.0103 - val_loss: 4.7753\n",
      "Epoch 2/20\n",
      "\u001b[1m40/40\u001b[0m \u001b[32m━━━━━━━━━━━━━━━━━━━━\u001b[0m\u001b[37m\u001b[0m \u001b[1m13s\u001b[0m 332ms/step - accuracy: 0.0864 - loss: 4.3339 - val_accuracy: 0.0183 - val_loss: 5.0993\n",
      "Epoch 3/20\n",
      "\u001b[1m40/40\u001b[0m \u001b[32m━━━━━━━━━━━━━━━━━━━━\u001b[0m\u001b[37m\u001b[0m \u001b[1m14s\u001b[0m 340ms/step - accuracy: 0.1439 - loss: 3.8950 - val_accuracy: 0.0118 - val_loss: 5.5583\n",
      "Epoch 4/20\n",
      "\u001b[1m40/40\u001b[0m \u001b[32m━━━━━━━━━━━━━━━━━━━━\u001b[0m\u001b[37m\u001b[0m \u001b[1m13s\u001b[0m 324ms/step - accuracy: 0.1818 - loss: 3.5745 - val_accuracy: 0.0193 - val_loss: 5.4232\n",
      "Epoch 5/20\n",
      "\u001b[1m40/40\u001b[0m \u001b[32m━━━━━━━━━━━━━━━━━━━━\u001b[0m\u001b[37m\u001b[0m \u001b[1m13s\u001b[0m 321ms/step - accuracy: 0.2306 - loss: 3.2986 - val_accuracy: 0.0224 - val_loss: 5.5510\n",
      "Epoch 6/20\n",
      "\u001b[1m40/40\u001b[0m \u001b[32m━━━━━━━━━━━━━━━━━━━━\u001b[0m\u001b[37m\u001b[0m \u001b[1m13s\u001b[0m 327ms/step - accuracy: 0.2623 - loss: 3.0896 - val_accuracy: 0.0235 - val_loss: 5.5199\n",
      "Epoch 7/20\n",
      "\u001b[1m40/40\u001b[0m \u001b[32m━━━━━━━━━━━━━━━━━━━━\u001b[0m\u001b[37m\u001b[0m \u001b[1m13s\u001b[0m 330ms/step - accuracy: 0.3155 - loss: 2.8418 - val_accuracy: 0.0220 - val_loss: 5.3836\n",
      "Epoch 8/20\n",
      "\u001b[1m40/40\u001b[0m \u001b[32m━━━━━━━━━━━━━━━━━━━━\u001b[0m\u001b[37m\u001b[0m \u001b[1m13s\u001b[0m 324ms/step - accuracy: 0.3501 - loss: 2.6557 - val_accuracy: 0.0296 - val_loss: 4.8936\n",
      "Epoch 9/20\n",
      "\u001b[1m40/40\u001b[0m \u001b[32m━━━━━━━━━━━━━━━━━━━━\u001b[0m\u001b[37m\u001b[0m \u001b[1m13s\u001b[0m 332ms/step - accuracy: 0.3871 - loss: 2.4996 - val_accuracy: 0.0396 - val_loss: 4.7652\n",
      "Epoch 10/20\n",
      "\u001b[1m40/40\u001b[0m \u001b[32m━━━━━━━━━━━━━━━━━━━━\u001b[0m\u001b[37m\u001b[0m \u001b[1m13s\u001b[0m 323ms/step - accuracy: 0.4280 - loss: 2.3445 - val_accuracy: 0.0406 - val_loss: 5.7054\n",
      "Epoch 11/20\n",
      "\u001b[1m40/40\u001b[0m \u001b[32m━━━━━━━━━━━━━━━━━━━━\u001b[0m\u001b[37m\u001b[0m \u001b[1m13s\u001b[0m 336ms/step - accuracy: 0.3515 - loss: 2.5994 - val_accuracy: 0.1604 - val_loss: 3.7279\n",
      "Epoch 12/20\n",
      "\u001b[1m40/40\u001b[0m \u001b[32m━━━━━━━━━━━━━━━━━━━━\u001b[0m\u001b[37m\u001b[0m \u001b[1m13s\u001b[0m 336ms/step - accuracy: 0.4446 - loss: 2.1601 - val_accuracy: 0.1661 - val_loss: 3.7428\n",
      "Epoch 13/20\n",
      "\u001b[1m40/40\u001b[0m \u001b[32m━━━━━━━━━━━━━━━━━━━━\u001b[0m\u001b[37m\u001b[0m \u001b[1m13s\u001b[0m 321ms/step - accuracy: 0.5138 - loss: 1.9193 - val_accuracy: 0.2168 - val_loss: 3.4177\n",
      "Epoch 14/20\n",
      "\u001b[1m40/40\u001b[0m \u001b[32m━━━━━━━━━━━━━━━━━━━━\u001b[0m\u001b[37m\u001b[0m \u001b[1m13s\u001b[0m 318ms/step - accuracy: 0.5786 - loss: 1.6986 - val_accuracy: 0.2432 - val_loss: 3.2628\n",
      "Epoch 15/20\n",
      "\u001b[1m40/40\u001b[0m \u001b[32m━━━━━━━━━━━━━━━━━━━━\u001b[0m\u001b[37m\u001b[0m \u001b[1m13s\u001b[0m 318ms/step - accuracy: 0.5912 - loss: 1.6211 - val_accuracy: 0.2407 - val_loss: 3.3163\n",
      "Epoch 16/20\n",
      "\u001b[1m40/40\u001b[0m \u001b[32m━━━━━━━━━━━━━━━━━━━━\u001b[0m\u001b[37m\u001b[0m \u001b[1m13s\u001b[0m 324ms/step - accuracy: 0.6229 - loss: 1.5028 - val_accuracy: 0.2795 - val_loss: 3.1174\n",
      "Epoch 17/20\n",
      "\u001b[1m40/40\u001b[0m \u001b[32m━━━━━━━━━━━━━━━━━━━━\u001b[0m\u001b[37m\u001b[0m \u001b[1m13s\u001b[0m 325ms/step - accuracy: 0.6402 - loss: 1.4344 - val_accuracy: 0.2657 - val_loss: 3.1749\n",
      "Epoch 18/20\n",
      "\u001b[1m40/40\u001b[0m \u001b[32m━━━━━━━━━━━━━━━━━━━━\u001b[0m\u001b[37m\u001b[0m \u001b[1m13s\u001b[0m 316ms/step - accuracy: 0.6775 - loss: 1.3020 - val_accuracy: 0.2897 - val_loss: 3.0718\n",
      "Epoch 19/20\n",
      "\u001b[1m40/40\u001b[0m \u001b[32m━━━━━━━━━━━━━━━━━━━━\u001b[0m\u001b[37m\u001b[0m \u001b[1m13s\u001b[0m 317ms/step - accuracy: 0.7202 - loss: 1.1404 - val_accuracy: 0.2812 - val_loss: 3.1244\n",
      "Epoch 20/20\n",
      "\u001b[1m40/40\u001b[0m \u001b[32m━━━━━━━━━━━━━━━━━━━━\u001b[0m\u001b[37m\u001b[0m \u001b[1m13s\u001b[0m 319ms/step - accuracy: 0.7481 - loss: 1.0287 - val_accuracy: 0.2831 - val_loss: 3.1536\n"
     ]
    }
   ],
   "source": [
    "\n",
    "# Crear modelo\n",
    "model = crear_modelo()\n",
    "\n",
    "# Callbacks para mejorar el entrenamiento\n",
    "callbacks = [\n",
    "    EarlyStopping(monitor='val_loss', patience=10, restore_best_weights=True),\n",
    "]\n",
    "\n",
    "# Entrenamiento del modelo\n",
    "history = model.fit(\n",
    "    x_train_labeled, y_train_labeled,\n",
    "    epochs=20,\n",
    "    batch_size=256,\n",
    "    validation_data=(x_test, y_test),\n",
    "    callbacks=callbacks\n",
    ")"
   ]
  },
  {
   "cell_type": "code",
   "execution_count": 64,
   "metadata": {},
   "outputs": [
    {
     "name": "stdout",
     "output_type": "stream",
     "text": [
      "313/313 - 3s - 9ms/step - accuracy: 0.2897 - loss: 3.0718\n",
      "Self-training: Train Accuracy: 0.8694 - Test Accuracy: 0.2897\n"
     ]
    }
   ],
   "source": [
    "# Evaluamos el rendimiento en el conjunto de prueba\n",
    "train_loss, train_acc = model.evaluate(x_train_labeled, y_train_labeled, verbose=0)\n",
    "test_loss, test_acc = model.evaluate(x_test, y_test, verbose=2)\n",
    "print(\"Self-training: Train Accuracy: {:.4f} - Test Accuracy: {:.4f}\".format(train_acc, test_acc))\n"
   ]
  },
  {
   "cell_type": "markdown",
   "metadata": {},
   "source": [
    "##EJERCICIO 3 AUTOENCODER:"
   ]
  },
  {
   "cell_type": "code",
   "execution_count": 68,
   "metadata": {},
   "outputs": [],
   "source": [
    "import numpy as np\n",
    "import tensorflow as tf\n",
    "from tensorflow.keras import layers, models, regularizers, Input\n",
    "from tensorflow.keras.datasets import cifar100\n",
    "from tensorflow.keras.callbacks import EarlyStopping"
   ]
  },
  {
   "cell_type": "code",
   "execution_count": 69,
   "metadata": {},
   "outputs": [],
   "source": [
    "# ----- Paso 1: Entrenar el Autoencoder -----\n",
    "\n",
    "def crear_encoder():\n",
    "    input_img = Input(shape=(32, 32, 3))\n",
    "    \n",
    "    x = layers.Conv2D(32, (3, 3), activation='relu', padding='same',\n",
    "                      kernel_regularizer=regularizers.l2(0.00005))(input_img)\n",
    "    x = layers.BatchNormalization()(x)\n",
    "    x = layers.MaxPooling2D((2, 2))(x)\n",
    "    \n",
    "    x = layers.Conv2D(64, (3, 3), activation='relu', padding='same',\n",
    "                      kernel_regularizer=regularizers.l2(0.00005))(x)\n",
    "    x = layers.BatchNormalization()(x)\n",
    "    x = layers.MaxPooling2D((2, 2))(x)\n",
    "    \n",
    "    x = layers.Conv2D(128, (3, 3), activation='relu', padding='same',\n",
    "                      kernel_regularizer=regularizers.l2(0.00005))(x)\n",
    "    x = layers.BatchNormalization()(x)\n",
    "    encoded = layers.MaxPooling2D((2, 2))(x)\n",
    "\n",
    "    encoder = models.Model(input_img, encoded, name=\"encoder\")\n",
    "    return encoder\n",
    "\n",
    "def crear_decoder(encoded):\n",
    "    x = layers.UpSampling2D((2, 2))(encoded)\n",
    "    x = layers.Conv2D(128, (3, 3), activation='relu', padding='same')(x)\n",
    "    \n",
    "    x = layers.UpSampling2D((2, 2))(x)\n",
    "    x = layers.Conv2D(64, (3, 3), activation='relu', padding='same')(x)\n",
    "    \n",
    "    x = layers.UpSampling2D((2, 2))(x)\n",
    "    x = layers.Conv2D(32, (3, 3), activation='relu', padding='same')(x)\n",
    "    \n",
    "    decoded = layers.Conv2D(3, (3, 3), activation='sigmoid', padding='same')(x)\n",
    "    return decoded\n",
    "\n",
    "def crear_autoencoder():\n",
    "    input_img = Input(shape=(32, 32, 3))\n",
    "    encoder = crear_encoder()\n",
    "    encoded = encoder(input_img)\n",
    "    decoded = crear_decoder(encoded)\n",
    "    \n",
    "    autoencoder = models.Model(input_img, decoded, name=\"autoencoder\")\n",
    "    autoencoder.compile(optimizer='adam', loss='mse')\n",
    "    return autoencoder, encoder\n"
   ]
  },
  {
   "cell_type": "code",
   "execution_count": null,
   "metadata": {},
   "outputs": [
    {
     "name": "stdout",
     "output_type": "stream",
     "text": [
      "Epoch 1/50\n",
      "\u001b[1m282/282\u001b[0m \u001b[32m━━━━━━━━━━━━━━━━━━━━\u001b[0m\u001b[37m\u001b[0m \u001b[1m130s\u001b[0m 430ms/step - loss: 0.0259 - val_loss: 0.0405\n",
      "Epoch 2/50\n",
      "\u001b[1m282/282\u001b[0m \u001b[32m━━━━━━━━━━━━━━━━━━━━\u001b[0m\u001b[37m\u001b[0m \u001b[1m98s\u001b[0m 347ms/step - loss: 0.0105 - val_loss: 0.0139\n",
      "Epoch 3/50\n",
      "\u001b[1m282/282\u001b[0m \u001b[32m━━━━━━━━━━━━━━━━━━━━\u001b[0m\u001b[37m\u001b[0m \u001b[1m97s\u001b[0m 342ms/step - loss: 0.0081 - val_loss: 0.0111\n",
      "Epoch 4/50\n",
      "\u001b[1m282/282\u001b[0m \u001b[32m━━━━━━━━━━━━━━━━━━━━\u001b[0m\u001b[37m\u001b[0m \u001b[1m98s\u001b[0m 348ms/step - loss: 0.0069 - val_loss: 0.0069\n",
      "Epoch 5/50\n",
      "\u001b[1m282/282\u001b[0m \u001b[32m━━━━━━━━━━━━━━━━━━━━\u001b[0m\u001b[37m\u001b[0m \u001b[1m98s\u001b[0m 347ms/step - loss: 0.0060 - val_loss: 0.0061\n",
      "Epoch 6/50\n",
      "\u001b[1m282/282\u001b[0m \u001b[32m━━━━━━━━━━━━━━━━━━━━\u001b[0m\u001b[37m\u001b[0m \u001b[1m104s\u001b[0m 368ms/step - loss: 0.0060 - val_loss: 0.0058\n",
      "Epoch 7/50\n",
      "\u001b[1m282/282\u001b[0m \u001b[32m━━━━━━━━━━━━━━━━━━━━\u001b[0m\u001b[37m\u001b[0m \u001b[1m101s\u001b[0m 358ms/step - loss: 0.0056 - val_loss: 0.0066\n",
      "Epoch 8/50\n",
      "\u001b[1m282/282\u001b[0m \u001b[32m━━━━━━━━━━━━━━━━━━━━\u001b[0m\u001b[37m\u001b[0m \u001b[1m101s\u001b[0m 359ms/step - loss: 0.0056 - val_loss: 0.0067\n",
      "Epoch 9/50\n",
      "\u001b[1m282/282\u001b[0m \u001b[32m━━━━━━━━━━━━━━━━━━━━\u001b[0m\u001b[37m\u001b[0m \u001b[1m97s\u001b[0m 345ms/step - loss: 0.0052 - val_loss: 0.0054\n",
      "Epoch 10/50\n",
      "\u001b[1m282/282\u001b[0m \u001b[32m━━━━━━━━━━━━━━━━━━━━\u001b[0m\u001b[37m\u001b[0m \u001b[1m97s\u001b[0m 342ms/step - loss: 0.0051 - val_loss: 0.0066\n",
      "Epoch 11/50\n",
      "\u001b[1m282/282\u001b[0m \u001b[32m━━━━━━━━━━━━━━━━━━━━\u001b[0m\u001b[37m\u001b[0m \u001b[1m97s\u001b[0m 345ms/step - loss: 0.0049 - val_loss: 0.0046\n",
      "Epoch 12/50\n",
      "\u001b[1m282/282\u001b[0m \u001b[32m━━━━━━━━━━━━━━━━━━━━\u001b[0m\u001b[37m\u001b[0m \u001b[1m98s\u001b[0m 347ms/step - loss: 0.0049 - val_loss: 0.0045\n",
      "Epoch 13/50\n",
      "\u001b[1m282/282\u001b[0m \u001b[32m━━━━━━━━━━━━━━━━━━━━\u001b[0m\u001b[37m\u001b[0m \u001b[1m99s\u001b[0m 351ms/step - loss: 0.0047 - val_loss: 0.0046\n",
      "Epoch 14/50\n",
      "\u001b[1m282/282\u001b[0m \u001b[32m━━━━━━━━━━━━━━━━━━━━\u001b[0m\u001b[37m\u001b[0m \u001b[1m97s\u001b[0m 344ms/step - loss: 0.0047 - val_loss: 0.0072\n",
      "Epoch 15/50\n",
      "\u001b[1m282/282\u001b[0m \u001b[32m━━━━━━━━━━━━━━━━━━━━\u001b[0m\u001b[37m\u001b[0m \u001b[1m99s\u001b[0m 349ms/step - loss: 0.0046 - val_loss: 0.0049\n",
      "Epoch 16/50\n",
      "\u001b[1m282/282\u001b[0m \u001b[32m━━━━━━━━━━━━━━━━━━━━\u001b[0m\u001b[37m\u001b[0m \u001b[1m99s\u001b[0m 353ms/step - loss: 0.0047 - val_loss: 0.0047\n",
      "Epoch 17/50\n",
      "\u001b[1m282/282\u001b[0m \u001b[32m━━━━━━━━━━━━━━━━━━━━\u001b[0m\u001b[37m\u001b[0m \u001b[1m99s\u001b[0m 350ms/step - loss: 0.0043 - val_loss: 0.0063\n",
      "Epoch 18/50\n",
      "\u001b[1m282/282\u001b[0m \u001b[32m━━━━━━━━━━━━━━━━━━━━\u001b[0m\u001b[37m\u001b[0m \u001b[1m99s\u001b[0m 349ms/step - loss: 0.0044 - val_loss: 0.0041\n",
      "Epoch 19/50\n",
      "\u001b[1m282/282\u001b[0m \u001b[32m━━━━━━━━━━━━━━━━━━━━\u001b[0m\u001b[37m\u001b[0m \u001b[1m100s\u001b[0m 354ms/step - loss: 0.0043 - val_loss: 0.0048\n",
      "Epoch 20/50\n",
      "\u001b[1m282/282\u001b[0m \u001b[32m━━━━━━━━━━━━━━━━━━━━\u001b[0m\u001b[37m\u001b[0m \u001b[1m97s\u001b[0m 345ms/step - loss: 0.0042 - val_loss: 0.0042\n",
      "Epoch 21/50\n",
      "\u001b[1m282/282\u001b[0m \u001b[32m━━━━━━━━━━━━━━━━━━━━\u001b[0m\u001b[37m\u001b[0m \u001b[1m99s\u001b[0m 350ms/step - loss: 0.0041 - val_loss: 0.0041\n",
      "Epoch 22/50\n",
      "\u001b[1m282/282\u001b[0m \u001b[32m━━━━━━━━━━━━━━━━━━━━\u001b[0m\u001b[37m\u001b[0m \u001b[1m100s\u001b[0m 354ms/step - loss: 0.0040 - val_loss: 0.0044\n",
      "Epoch 23/50\n",
      "\u001b[1m282/282\u001b[0m \u001b[32m━━━━━━━━━━━━━━━━━━━━\u001b[0m\u001b[37m\u001b[0m \u001b[1m98s\u001b[0m 347ms/step - loss: 0.0041 - val_loss: 0.0044\n",
      "Epoch 24/50\n",
      "\u001b[1m282/282\u001b[0m \u001b[32m━━━━━━━━━━━━━━━━━━━━\u001b[0m\u001b[37m\u001b[0m \u001b[1m98s\u001b[0m 349ms/step - loss: 0.0042 - val_loss: 0.0038\n",
      "Epoch 25/50\n",
      "\u001b[1m282/282\u001b[0m \u001b[32m━━━━━━━━━━━━━━━━━━━━\u001b[0m\u001b[37m\u001b[0m \u001b[1m99s\u001b[0m 353ms/step - loss: 0.0040 - val_loss: 0.0043\n",
      "Epoch 26/50\n",
      "\u001b[1m282/282\u001b[0m \u001b[32m━━━━━━━━━━━━━━━━━━━━\u001b[0m\u001b[37m\u001b[0m \u001b[1m100s\u001b[0m 354ms/step - loss: 0.0038 - val_loss: 0.0038\n",
      "Epoch 27/50\n",
      "\u001b[1m282/282\u001b[0m \u001b[32m━━━━━━━━━━━━━━━━━━━━\u001b[0m\u001b[37m\u001b[0m \u001b[1m98s\u001b[0m 349ms/step - loss: 0.0039 - val_loss: 0.0038\n",
      "Epoch 28/50\n",
      "\u001b[1m282/282\u001b[0m \u001b[32m━━━━━━━━━━━━━━━━━━━━\u001b[0m\u001b[37m\u001b[0m \u001b[1m99s\u001b[0m 352ms/step - loss: 0.0038 - val_loss: 0.0041\n",
      "Epoch 29/50\n",
      "\u001b[1m282/282\u001b[0m \u001b[32m━━━━━━━━━━━━━━━━━━━━\u001b[0m\u001b[37m\u001b[0m \u001b[1m100s\u001b[0m 355ms/step - loss: 0.0039 - val_loss: 0.0039\n",
      "Epoch 30/50\n",
      "\u001b[1m282/282\u001b[0m \u001b[32m━━━━━━━━━━━━━━━━━━━━\u001b[0m\u001b[37m\u001b[0m \u001b[1m99s\u001b[0m 353ms/step - loss: 0.0038 - val_loss: 0.0040\n",
      "Epoch 31/50\n",
      "\u001b[1m282/282\u001b[0m \u001b[32m━━━━━━━━━━━━━━━━━━━━\u001b[0m\u001b[37m\u001b[0m \u001b[1m98s\u001b[0m 346ms/step - loss: 0.0037 - val_loss: 0.0038\n",
      "Epoch 32/50\n",
      "\u001b[1m282/282\u001b[0m \u001b[32m━━━━━━━━━━━━━━━━━━━━\u001b[0m\u001b[37m\u001b[0m \u001b[1m101s\u001b[0m 358ms/step - loss: 0.0037 - val_loss: 0.0044\n",
      "Epoch 33/50\n",
      "\u001b[1m282/282\u001b[0m \u001b[32m━━━━━━━━━━━━━━━━━━━━\u001b[0m\u001b[37m\u001b[0m \u001b[1m100s\u001b[0m 355ms/step - loss: 0.0038 - val_loss: 0.0040\n",
      "Epoch 34/50\n",
      "\u001b[1m282/282\u001b[0m \u001b[32m━━━━━━━━━━━━━━━━━━━━\u001b[0m\u001b[37m\u001b[0m \u001b[1m98s\u001b[0m 347ms/step - loss: 0.0037 - val_loss: 0.0037\n",
      "Epoch 35/50\n",
      "\u001b[1m282/282\u001b[0m \u001b[32m━━━━━━━━━━━━━━━━━━━━\u001b[0m\u001b[37m\u001b[0m \u001b[1m99s\u001b[0m 352ms/step - loss: 0.0036 - val_loss: 0.0039\n",
      "Epoch 36/50\n",
      "\u001b[1m282/282\u001b[0m \u001b[32m━━━━━━━━━━━━━━━━━━━━\u001b[0m\u001b[37m\u001b[0m \u001b[1m99s\u001b[0m 351ms/step - loss: 0.0036 - val_loss: 0.0040\n",
      "Epoch 37/50\n",
      "\u001b[1m282/282\u001b[0m \u001b[32m━━━━━━━━━━━━━━━━━━━━\u001b[0m\u001b[37m\u001b[0m \u001b[1m100s\u001b[0m 355ms/step - loss: 0.0035 - val_loss: 0.0044\n",
      "Epoch 38/50\n",
      "\u001b[1m282/282\u001b[0m \u001b[32m━━━━━━━━━━━━━━━━━━━━\u001b[0m\u001b[37m\u001b[0m \u001b[1m99s\u001b[0m 351ms/step - loss: 0.0036 - val_loss: 0.0048\n",
      "Epoch 39/50\n",
      "\u001b[1m282/282\u001b[0m \u001b[32m━━━━━━━━━━━━━━━━━━━━\u001b[0m\u001b[37m\u001b[0m \u001b[1m104s\u001b[0m 370ms/step - loss: 0.0035 - val_loss: 0.0035\n",
      "Epoch 40/50\n",
      "\u001b[1m282/282\u001b[0m \u001b[32m━━━━━━━━━━━━━━━━━━━━\u001b[0m\u001b[37m\u001b[0m \u001b[1m98s\u001b[0m 348ms/step - loss: 0.0036 - val_loss: 0.0033\n",
      "Epoch 41/50\n",
      "\u001b[1m282/282\u001b[0m \u001b[32m━━━━━━━━━━━━━━━━━━━━\u001b[0m\u001b[37m\u001b[0m \u001b[1m101s\u001b[0m 358ms/step - loss: 0.0035 - val_loss: 0.0039\n",
      "Epoch 42/50\n",
      "\u001b[1m282/282\u001b[0m \u001b[32m━━━━━━━━━━━━━━━━━━━━\u001b[0m\u001b[37m\u001b[0m \u001b[1m100s\u001b[0m 353ms/step - loss: 0.0035 - val_loss: 0.0034\n",
      "Epoch 43/50\n",
      "\u001b[1m282/282\u001b[0m \u001b[32m━━━━━━━━━━━━━━━━━━━━\u001b[0m\u001b[37m\u001b[0m \u001b[1m99s\u001b[0m 349ms/step - loss: 0.0034 - val_loss: 0.0052\n",
      "Epoch 44/50\n",
      "\u001b[1m282/282\u001b[0m \u001b[32m━━━━━━━━━━━━━━━━━━━━\u001b[0m\u001b[37m\u001b[0m \u001b[1m100s\u001b[0m 353ms/step - loss: 0.0036 - val_loss: 0.0044\n",
      "Epoch 45/50\n",
      "\u001b[1m282/282\u001b[0m \u001b[32m━━━━━━━━━━━━━━━━━━━━\u001b[0m\u001b[37m\u001b[0m \u001b[1m101s\u001b[0m 358ms/step - loss: 0.0035 - val_loss: 0.0037\n",
      "Epoch 46/50\n",
      "\u001b[1m282/282\u001b[0m \u001b[32m━━━━━━━━━━━━━━━━━━━━\u001b[0m\u001b[37m\u001b[0m \u001b[1m100s\u001b[0m 354ms/step - loss: 0.0034 - val_loss: 0.0034\n",
      "Epoch 47/50\n",
      "\u001b[1m282/282\u001b[0m \u001b[32m━━━━━━━━━━━━━━━━━━━━\u001b[0m\u001b[37m\u001b[0m \u001b[1m0s\u001b[0m 341ms/step - loss: 0.0034"
     ]
    }
   ],
   "source": [
    "autoencoder, encoder = crear_autoencoder()\n",
    "# Entrenar autoencoder solo con imágenes no etiquetadas\n",
    "\n",
    "early_stopping = EarlyStopping(monitor='val_loss', patience=7, restore_best_weights=True)\n",
    "\n",
    "autoencoder.fit(x_train_unlabeled, x_train_unlabeled, epochs=50, batch_size=128, validation_split=0.1, callbacks=[early_stopping])\n"
   ]
  },
  {
   "cell_type": "code",
   "execution_count": 1,
   "metadata": {},
   "outputs": [],
   "source": [
    "# ----- Paso 2: Entrenar el Clasificador -----\n",
    "\n",
    "def crear_clasificador(encoder):\n",
    "    encoder.trainable = False  # Congelamos el encoder preentrenado\n",
    "    input_img = encoder.input\n",
    "    x = encoder.output\n",
    "    x = layers.Flatten()(x)\n",
    "    \n",
    "    x = layers.Dense(256, activation='relu', kernel_regularizer=regularizers.l2(0.0001))(x)\n",
    "    x = layers.BatchNormalization()(x)\n",
    "    x = layers.Dropout(0.6)(x)\n",
    "    \n",
    "    output = layers.Dense(100, activation='softmax')(x)\n",
    "    \n",
    "    classifier = models.Model(input_img, output, name=\"clasificador\")\n",
    "    classifier.compile(optimizer=tf.keras.optimizers.Adam(learning_rate=0.001),\n",
    "                       loss='sparse_categorical_crossentropy',\n",
    "                       metrics=['accuracy'])\n",
    "    return classifier\n"
   ]
  },
  {
   "cell_type": "code",
   "execution_count": 2,
   "metadata": {},
   "outputs": [
    {
     "ename": "NameError",
     "evalue": "name 'encoder' is not defined",
     "output_type": "error",
     "traceback": [
      "\u001b[1;31m---------------------------------------------------------------------------\u001b[0m",
      "\u001b[1;31mNameError\u001b[0m                                 Traceback (most recent call last)",
      "Cell \u001b[1;32mIn[2], line 1\u001b[0m\n\u001b[1;32m----> 1\u001b[0m classifier \u001b[38;5;241m=\u001b[39m crear_clasificador(\u001b[43mencoder\u001b[49m)\n\u001b[0;32m      3\u001b[0m \u001b[38;5;66;03m# Definir Early Stopping para detener si no mejora la validación en 5 épocas seguidas\u001b[39;00m\n\u001b[0;32m      4\u001b[0m early_stopping \u001b[38;5;241m=\u001b[39m EarlyStopping(monitor\u001b[38;5;241m=\u001b[39m\u001b[38;5;124m'\u001b[39m\u001b[38;5;124mval_loss\u001b[39m\u001b[38;5;124m'\u001b[39m, patience\u001b[38;5;241m=\u001b[39m\u001b[38;5;241m7\u001b[39m, restore_best_weights\u001b[38;5;241m=\u001b[39m\u001b[38;5;28;01mTrue\u001b[39;00m)\n",
      "\u001b[1;31mNameError\u001b[0m: name 'encoder' is not defined"
     ]
    }
   ],
   "source": [
    "\n",
    "classifier = crear_clasificador(encoder)\n",
    "\n",
    "# Definir Early Stopping para detener si no mejora la validación en 5 épocas seguidas\n",
    "early_stopping = EarlyStopping(monitor='val_loss', patience=7, restore_best_weights=True)\n",
    "\n",
    "# Entrenar solo con datos etiquetados\n",
    "classifier.fit(x_train_labeled, y_train_labeled, epochs=50, batch_size=128, validation_split=0.1, callbacks=[early_stopping])\n"
   ]
  },
  {
   "cell_type": "code",
   "execution_count": null,
   "metadata": {},
   "outputs": [],
   "source": []
  }
 ],
 "metadata": {
  "kernelspec": {
   "display_name": "Python 3",
   "language": "python",
   "name": "python3"
  },
  "language_info": {
   "codemirror_mode": {
    "name": "ipython",
    "version": 3
   },
   "file_extension": ".py",
   "mimetype": "text/x-python",
   "name": "python",
   "nbconvert_exporter": "python",
   "pygments_lexer": "ipython3",
   "version": "3.12.6"
  }
 },
 "nbformat": 4,
 "nbformat_minor": 2
}
