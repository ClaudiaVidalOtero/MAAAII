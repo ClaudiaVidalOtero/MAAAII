{
 "cells": [
  {
   "cell_type": "markdown",
   "metadata": {},
   "source": [
    "# P2 MAAAI "
   ]
  },
  {
   "cell_type": "markdown",
   "metadata": {},
   "source": [
    "PREPROCESADO DE DATOS:"
   ]
  },
  {
   "cell_type": "code",
   "execution_count": 6,
   "metadata": {},
   "outputs": [],
   "source": [
    "import tensorflow as tf\n",
    "from tensorflow.keras.datasets import cifar100\n",
    "import numpy as np"
   ]
  },
  {
   "cell_type": "code",
   "execution_count": 7,
   "metadata": {},
   "outputs": [
    {
     "name": "stdout",
     "output_type": "stream",
     "text": [
      "Entrenamiento: (50000, 32, 32, 3), Prueba: (10000, 32, 32, 3)\n",
      "Instancias de entrenamiento etiquetadas: (10000, 32, 32, 3), No etiquetadas: (40000, 32, 32, 3)\n"
     ]
    }
   ],
   "source": [
    "\n",
    "# Cargar el conjunto de datos CIFAR-100\n",
    "(x_train, y_train), (x_test, y_test) = cifar100.load_data()\n",
    "\n",
    "print(f\"Entrenamiento: {x_train.shape}, Prueba: {x_test.shape}\")\n",
    "\n",
    "# Eliminamos el 80% de las etiquetas en el conjunto de entrenamiento\n",
    "np.random.seed(42)\n",
    "unlabeled_indices = np.random.choice(len(x_train), size=int(0.8 * len(x_train)), replace=False)\n",
    "labeled_indices = np.setdiff1d(np.arange(len(x_train)), unlabeled_indices)\n",
    "\n",
    "# Creamos las particiones de datos\n",
    "x_train_labeled = x_train[labeled_indices]\n",
    "y_train_labeled = y_train[labeled_indices]\n",
    "x_train_unlabeled = x_train[unlabeled_indices]\n",
    "y_train_unlabeled = y_train[unlabeled_indices]  \n",
    "\n",
    "print(f\"Instancias de entrenamiento etiquetadas: {x_train_labeled.shape}, No etiquetadas: {x_train_unlabeled.shape}\")\n"
   ]
  },
  {
   "cell_type": "markdown",
   "metadata": {},
   "source": [
    "CREACIÓN DE LA RED NEURONAL CONVOLUCIONAL"
   ]
  },
  {
   "cell_type": "code",
   "execution_count": null,
   "metadata": {},
   "outputs": [],
   "source": [
    "from tensorflow.keras import layers, models, regularizers\n",
    "from tensorflow.keras.callbacks import EarlyStopping"
   ]
  },
  {
   "cell_type": "code",
   "execution_count": 52,
   "metadata": {},
   "outputs": [],
   "source": [
    "\n",
    "def crear_modelo():\n",
    "    model = models.Sequential()\n",
    "\n",
    "    # Bloque convolucional 1\n",
    "    model.add(layers.Conv2D(32, (3, 3), activation='relu', padding='same',\n",
    "                             kernel_regularizer=regularizers.l2(0.00005), input_shape=(32, 32, 3)))\n",
    "    model.add(layers.BatchNormalization())\n",
    "    model.add(layers.MaxPooling2D((2, 2)))\n",
    "\n",
    "    # Bloque convolucional 2\n",
    "    model.add(layers.Conv2D(64, (3, 3), activation='relu', padding='same',\n",
    "                             kernel_regularizer=regularizers.l2(0.00005)))\n",
    "    model.add(layers.BatchNormalization())\n",
    "    model.add(layers.MaxPooling2D((2, 2)))\n",
    "\n",
    "    # Bloque convolucional 3\n",
    "    model.add(layers.Conv2D(128, (3, 3), activation='relu', padding='same',\n",
    "                             kernel_regularizer=regularizers.l2(0.00005)))\n",
    "    model.add(layers.BatchNormalization())\n",
    "    model.add(layers.MaxPooling2D((2, 2)))\n",
    "\n",
    "    # Aplanar\n",
    "    model.add(layers.Flatten())\n",
    "\n",
    "    # Bloque denso 1\n",
    "    model.add(layers.Dense(256, activation='relu', kernel_regularizer=regularizers.l2(0.0001)))\n",
    "    model.add(layers.BatchNormalization())\n",
    "    model.add(layers.Dropout(0.6))\n",
    "\n",
    "    # Capa de salida\n",
    "    model.add(layers.Dense(100, activation='softmax'))\n",
    "\n",
    "    # Compilación del modelo\n",
    "    model.compile(optimizer=tf.keras.optimizers.Adam(learning_rate=0.001),\n",
    "                  loss='sparse_categorical_crossentropy',\n",
    "                  metrics=['accuracy'])\n",
    "\n",
    "    return model\n",
    "\n"
   ]
  },
  {
   "cell_type": "code",
   "execution_count": 53,
   "metadata": {},
   "outputs": [
    {
     "name": "stdout",
     "output_type": "stream",
     "text": [
      "Epoch 1/20\n",
      "\u001b[1m40/40\u001b[0m \u001b[32m━━━━━━━━━━━━━━━━━━━━\u001b[0m\u001b[37m\u001b[0m \u001b[1m31s\u001b[0m 635ms/step - accuracy: 0.0273 - loss: 5.4931 - val_accuracy: 0.0285 - val_loss: 6.4452\n",
      "Epoch 2/20\n",
      "\u001b[1m40/40\u001b[0m \u001b[32m━━━━━━━━━━━━━━━━━━━━\u001b[0m\u001b[37m\u001b[0m \u001b[1m18s\u001b[0m 457ms/step - accuracy: 0.0803 - loss: 4.5391 - val_accuracy: 0.0618 - val_loss: 4.3131\n",
      "Epoch 3/20\n",
      "\u001b[1m40/40\u001b[0m \u001b[32m━━━━━━━━━━━━━━━━━━━━\u001b[0m\u001b[37m\u001b[0m \u001b[1m15s\u001b[0m 387ms/step - accuracy: 0.1172 - loss: 4.1092 - val_accuracy: 0.1383 - val_loss: 3.8971\n",
      "Epoch 4/20\n",
      "\u001b[1m40/40\u001b[0m \u001b[32m━━━━━━━━━━━━━━━━━━━━\u001b[0m\u001b[37m\u001b[0m \u001b[1m16s\u001b[0m 410ms/step - accuracy: 0.1580 - loss: 3.7926 - val_accuracy: 0.1773 - val_loss: 3.6741\n",
      "Epoch 5/20\n",
      "\u001b[1m40/40\u001b[0m \u001b[32m━━━━━━━━━━━━━━━━━━━━\u001b[0m\u001b[37m\u001b[0m \u001b[1m19s\u001b[0m 475ms/step - accuracy: 0.1875 - loss: 3.5513 - val_accuracy: 0.1803 - val_loss: 3.6116\n",
      "Epoch 6/20\n",
      "\u001b[1m40/40\u001b[0m \u001b[32m━━━━━━━━━━━━━━━━━━━━\u001b[0m\u001b[37m\u001b[0m \u001b[1m19s\u001b[0m 477ms/step - accuracy: 0.2326 - loss: 3.2675 - val_accuracy: 0.2147 - val_loss: 3.4498\n",
      "Epoch 7/20\n",
      "\u001b[1m40/40\u001b[0m \u001b[32m━━━━━━━━━━━━━━━━━━━━\u001b[0m\u001b[37m\u001b[0m \u001b[1m18s\u001b[0m 457ms/step - accuracy: 0.2708 - loss: 3.0363 - val_accuracy: 0.2405 - val_loss: 3.2954\n",
      "Epoch 8/20\n",
      "\u001b[1m40/40\u001b[0m \u001b[32m━━━━━━━━━━━━━━━━━━━━\u001b[0m\u001b[37m\u001b[0m \u001b[1m17s\u001b[0m 418ms/step - accuracy: 0.3183 - loss: 2.7917 - val_accuracy: 0.2415 - val_loss: 3.3130\n",
      "Epoch 9/20\n",
      "\u001b[1m40/40\u001b[0m \u001b[32m━━━━━━━━━━━━━━━━━━━━\u001b[0m\u001b[37m\u001b[0m \u001b[1m16s\u001b[0m 410ms/step - accuracy: 0.3549 - loss: 2.6167 - val_accuracy: 0.2475 - val_loss: 3.1975\n",
      "Epoch 10/20\n",
      "\u001b[1m40/40\u001b[0m \u001b[32m━━━━━━━━━━━━━━━━━━━━\u001b[0m\u001b[37m\u001b[0m \u001b[1m17s\u001b[0m 427ms/step - accuracy: 0.3958 - loss: 2.4243 - val_accuracy: 0.2443 - val_loss: 3.2618\n",
      "Epoch 11/20\n",
      "\u001b[1m40/40\u001b[0m \u001b[32m━━━━━━━━━━━━━━━━━━━━\u001b[0m\u001b[37m\u001b[0m \u001b[1m16s\u001b[0m 407ms/step - accuracy: 0.4334 - loss: 2.2514 - val_accuracy: 0.2757 - val_loss: 3.0612\n",
      "Epoch 12/20\n",
      "\u001b[1m40/40\u001b[0m \u001b[32m━━━━━━━━━━━━━━━━━━━━\u001b[0m\u001b[37m\u001b[0m \u001b[1m17s\u001b[0m 428ms/step - accuracy: 0.4908 - loss: 2.0537 - val_accuracy: 0.2691 - val_loss: 3.1083\n",
      "Epoch 13/20\n",
      "\u001b[1m40/40\u001b[0m \u001b[32m━━━━━━━━━━━━━━━━━━━━\u001b[0m\u001b[37m\u001b[0m \u001b[1m16s\u001b[0m 406ms/step - accuracy: 0.5120 - loss: 1.9235 - val_accuracy: 0.2961 - val_loss: 2.9722\n",
      "Epoch 14/20\n",
      "\u001b[1m40/40\u001b[0m \u001b[32m━━━━━━━━━━━━━━━━━━━━\u001b[0m\u001b[37m\u001b[0m \u001b[1m18s\u001b[0m 455ms/step - accuracy: 0.5530 - loss: 1.7595 - val_accuracy: 0.2751 - val_loss: 3.0694\n",
      "Epoch 15/20\n",
      "\u001b[1m40/40\u001b[0m \u001b[32m━━━━━━━━━━━━━━━━━━━━\u001b[0m\u001b[37m\u001b[0m \u001b[1m16s\u001b[0m 408ms/step - accuracy: 0.5912 - loss: 1.6264 - val_accuracy: 0.2662 - val_loss: 3.1098\n",
      "Epoch 16/20\n",
      "\u001b[1m40/40\u001b[0m \u001b[32m━━━━━━━━━━━━━━━━━━━━\u001b[0m\u001b[37m\u001b[0m \u001b[1m18s\u001b[0m 446ms/step - accuracy: 0.6443 - loss: 1.4300 - val_accuracy: 0.2902 - val_loss: 3.0117\n",
      "Epoch 17/20\n",
      "\u001b[1m40/40\u001b[0m \u001b[32m━━━━━━━━━━━━━━━━━━━━\u001b[0m\u001b[37m\u001b[0m \u001b[1m19s\u001b[0m 473ms/step - accuracy: 0.6441 - loss: 1.4066 - val_accuracy: 0.2938 - val_loss: 3.0315\n",
      "Epoch 18/20\n",
      "\u001b[1m40/40\u001b[0m \u001b[32m━━━━━━━━━━━━━━━━━━━━\u001b[0m\u001b[37m\u001b[0m \u001b[1m16s\u001b[0m 400ms/step - accuracy: 0.7053 - loss: 1.2019 - val_accuracy: 0.2952 - val_loss: 3.0394\n",
      "Epoch 19/20\n",
      "\u001b[1m40/40\u001b[0m \u001b[32m━━━━━━━━━━━━━━━━━━━━\u001b[0m\u001b[37m\u001b[0m \u001b[1m16s\u001b[0m 397ms/step - accuracy: 0.7322 - loss: 1.1033 - val_accuracy: 0.3022 - val_loss: 3.0694\n",
      "Epoch 20/20\n",
      "\u001b[1m40/40\u001b[0m \u001b[32m━━━━━━━━━━━━━━━━━━━━\u001b[0m\u001b[37m\u001b[0m \u001b[1m15s\u001b[0m 385ms/step - accuracy: 0.7471 - loss: 1.0295 - val_accuracy: 0.3031 - val_loss: 3.0471\n"
     ]
    }
   ],
   "source": [
    "\n",
    "# Crear modelo\n",
    "model = crear_modelo()\n",
    "\n",
    "# Callbacks para mejorar el entrenamiento\n",
    "callbacks = [\n",
    "    EarlyStopping(monitor='val_loss', patience=10, restore_best_weights=True),\n",
    "]\n",
    "\n",
    "# Entrenamiento del modelo\n",
    "history = model.fit(\n",
    "    x_train_labeled, y_train_labeled,\n",
    "    epochs=20,\n",
    "    batch_size=256,\n",
    "    validation_data=(x_test, y_test),\n",
    "    callbacks=callbacks\n",
    ")"
   ]
  },
  {
   "cell_type": "code",
   "execution_count": 54,
   "metadata": {},
   "outputs": [
    {
     "name": "stdout",
     "output_type": "stream",
     "text": [
      "313/313 - 6s - 19ms/step - accuracy: 0.2961 - loss: 2.9722\n",
      "Self-training: Train Accuracy: 0.7229 - Test Accuracy: 0.2961\n"
     ]
    }
   ],
   "source": [
    "# Evaluamos el rendimiento en el conjunto de prueba\n",
    "train_loss, train_acc = model.evaluate(x_train_labeled, y_train_labeled, verbose=0)\n",
    "test_loss, test_acc = model.evaluate(x_test, y_test, verbose=2)\n",
    "print(\"Self-training: Train Accuracy: {:.4f} - Test Accuracy: {:.4f}\".format(train_acc, test_acc))\n"
   ]
  },
  {
   "cell_type": "code",
   "execution_count": null,
   "metadata": {},
   "outputs": [],
   "source": []
  }
 ],
 "metadata": {
  "kernelspec": {
   "display_name": "Python 3",
   "language": "python",
   "name": "python3"
  },
  "language_info": {
   "codemirror_mode": {
    "name": "ipython",
    "version": 3
   },
   "file_extension": ".py",
   "mimetype": "text/x-python",
   "name": "python",
   "nbconvert_exporter": "python",
   "pygments_lexer": "ipython3",
   "version": "3.12.6"
  }
 },
 "nbformat": 4,
 "nbformat_minor": 2
}
