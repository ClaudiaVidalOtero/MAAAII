{
 "cells": [
  {
   "cell_type": "markdown",
   "metadata": {},
   "source": [
    "PREPROCESADO DE DATOS:"
   ]
  },
  {
   "cell_type": "code",
   "execution_count": 1,
   "metadata": {},
   "outputs": [],
   "source": [
    "import tensorflow as tf\n",
    "from tensorflow.keras.datasets import cifar100\n",
    "import numpy as np"
   ]
  },
  {
   "cell_type": "code",
   "execution_count": 2,
   "metadata": {},
   "outputs": [
    {
     "name": "stdout",
     "output_type": "stream",
     "text": [
      "Etiquetadas: (10000, 32, 32, 3), No etiquetadas: (40000, 32, 32, 3)\n"
     ]
    }
   ],
   "source": [
    "\n",
    "# Cargar CIFAR-100\n",
    "(x_train, y_train), (x_test, y_test) = cifar100.load_data()\n",
    "x_train = x_train.astype('float32') / 255.0  # Normalizar imágenes a [0,1]\n",
    "x_test = x_test.astype('float32') / 255.0\n",
    "\n",
    "# Dividir en datos etiquetados y no etiquetados (80% sin etiquetas)\n",
    "np.random.seed(42)\n",
    "unlabeled_indices = np.random.choice(len(x_train), size=int(0.8 * len(x_train)), replace=False)\n",
    "labeled_indices = np.setdiff1d(np.arange(len(x_train)), unlabeled_indices)\n",
    "\n",
    "x_train_labeled = x_train[labeled_indices]\n",
    "y_train_labeled = y_train[labeled_indices]\n",
    "x_train_unlabeled = x_train[unlabeled_indices]\n",
    "\n",
    "print(f\"Etiquetadas: {x_train_labeled.shape}, No etiquetadas: {x_train_unlabeled.shape}\")"
   ]
  },
  {
   "cell_type": "markdown",
   "metadata": {},
   "source": [
    "CREACIÓN DE LA RED NEURONAL CONVOLUCIONAL"
   ]
  },
  {
   "cell_type": "code",
   "execution_count": 3,
   "metadata": {},
   "outputs": [],
   "source": [
    "from tensorflow.keras import layers, models, regularizers\n",
    "from tensorflow.keras.callbacks import EarlyStopping"
   ]
  },
  {
   "cell_type": "code",
   "execution_count": 4,
   "metadata": {},
   "outputs": [],
   "source": [
    "\n",
    "def crear_modelo():\n",
    "    model = models.Sequential()\n",
    "\n",
    "    # Bloque convolucional 1\n",
    "    model.add(layers.Conv2D(32, (3, 3), activation='relu', padding='same',\n",
    "                             kernel_regularizer=regularizers.l2(0.00005), input_shape=(32, 32, 3)))\n",
    "    model.add(layers.BatchNormalization())\n",
    "    model.add(layers.MaxPooling2D((2, 2)))\n",
    "\n",
    "    # Bloque convolucional 2\n",
    "    model.add(layers.Conv2D(64, (3, 3), activation='relu', padding='same',\n",
    "                             kernel_regularizer=regularizers.l2(0.00005)))\n",
    "    model.add(layers.BatchNormalization())\n",
    "    model.add(layers.MaxPooling2D((2, 2)))\n",
    "\n",
    "    # Bloque convolucional 3\n",
    "    model.add(layers.Conv2D(128, (3, 3), activation='relu', padding='same',\n",
    "                             kernel_regularizer=regularizers.l2(0.00005)))\n",
    "    model.add(layers.BatchNormalization())\n",
    "    model.add(layers.MaxPooling2D((2, 2)))\n",
    "\n",
    "    # Aplanar\n",
    "    model.add(layers.Flatten())\n",
    "\n",
    "    # Bloque denso 1\n",
    "    model.add(layers.Dense(256, activation='relu', kernel_regularizer=regularizers.l2(0.0001)))\n",
    "    model.add(layers.BatchNormalization())\n",
    "    model.add(layers.Dropout(0.6))\n",
    "\n",
    "    # Capa de salida\n",
    "    model.add(layers.Dense(100, activation='softmax'))\n",
    "\n",
    "    # Compilación del modelo\n",
    "    model.compile(optimizer=tf.keras.optimizers.Adam(learning_rate=0.001),\n",
    "                  loss='sparse_categorical_crossentropy',\n",
    "                  metrics=['accuracy'])\n",
    "\n",
    "    return model\n"
   ]
  },
  {
   "cell_type": "code",
   "execution_count": null,
   "metadata": {},
   "outputs": [],
   "source": [
    "\n",
    "# Crear modelo\n",
    "model = crear_modelo()\n",
    "\n",
    "# Callbacks para mejorar el entrenamiento\n",
    "callbacks = [\n",
    "    EarlyStopping(monitor='val_loss', patience=10, restore_best_weights=True),\n",
    "]\n",
    "\n",
    "# Entrenamiento del modelo\n",
    "history = model.fit(\n",
    "    x_train_labeled, y_train_labeled,\n",
    "    epochs=20,\n",
    "    batch_size=256,\n",
    "    validation_data=(x_test, y_test),\n",
    "    callbacks=callbacks\n",
    ")"
   ]
  },
  {
   "cell_type": "code",
   "execution_count": null,
   "metadata": {},
   "outputs": [],
   "source": [
    "# Evaluamos el rendimiento en el conjunto de prueba\n",
    "train_loss, train_acc = model.evaluate(x_train_labeled, y_train_labeled, verbose=0)\n",
    "test_loss, test_acc = model.evaluate(x_test, y_test, verbose=2)\n",
    "print(\"Self-training: Train Accuracy: {:.4f} - Test Accuracy: {:.4f}\".format(train_acc, test_acc))"
   ]
  }
 ],
 "metadata": {
  "kernelspec": {
   "display_name": "Python 3",
   "language": "python",
   "name": "python3"
  },
  "language_info": {
   "codemirror_mode": {
    "name": "ipython",
    "version": 3
   },
   "file_extension": ".py",
   "mimetype": "text/x-python",
   "name": "python",
   "nbconvert_exporter": "python",
   "pygments_lexer": "ipython3",
   "version": "3.12.6"
  }
 },
 "nbformat": 4,
 "nbformat_minor": 2
}
