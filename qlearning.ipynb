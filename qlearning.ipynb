{
 "cells": [
  {
   "cell_type": "markdown",
   "id": "b247166d",
   "metadata": {},
   "source": [
    "\n",
    "Practica 3 (Pendulum-v1 versión Q-Learning)\n",
    "\n",
    "Aldana Smyna Medina Lostaunau\n",
    "\n",
    "Claudia Vidal Otero"
   ]
  },
  {
   "cell_type": "markdown",
   "id": "989ce62b",
   "metadata": {},
   "source": [
    "IMPORTACIONES"
   ]
  },
  {
   "cell_type": "code",
   "execution_count": 13,
   "id": "009b5669",
   "metadata": {},
   "outputs": [],
   "source": [
    "import gymnasium as gym\n",
    "import numpy as np\n",
    "import matplotlib.pyplot as plt\n",
    "import pickle\n",
    "from collections import defaultdict\n",
    "import os\n",
    "import time"
   ]
  },
  {
   "cell_type": "markdown",
   "id": "f4a86171",
   "metadata": {},
   "source": [
    "CONFIGURACIÓN DE HIPERPARÁMETROS"
   ]
  },
  {
   "cell_type": "code",
   "execution_count": 14,
   "id": "5866bac2",
   "metadata": {},
   "outputs": [],
   "source": [
    "ENV_NAME = 'Pendulum-v1'\n",
    "RENDER = False\n",
    "PERTURBACIONES = False\n",
    "PERTURB_PROB = 0.05 #Pedida por el enunciado\n",
    "PERTURB_VALS = [-2.0, 2.0]  #Pedidos por el enunciado\n",
    "\n",
    "N_ANGLE_BINS = 30 \n",
    "N_VELOCITY_BINS = 15 \n",
    "N_ACTIONS = 11\n",
    "\n",
    "\n",
    "ANGLE_MIN, ANGLE_MAX = -np.pi, np.pi\n",
    "VEL_MIN, VEL_MAX = -8.0, 8.0\n",
    "ACTION_MIN, ACTION_MAX = -2.0, 2.0\n",
    "\n",
    "NUM_EPISODES = 20000\n",
    "MAX_STEPS = 200\n",
    "GAMMA = 0.95\n",
    "EPSILON_START = 1.0\n",
    "EPSILON_DECAY = 0.995\n",
    "EPSILON_END = 0.01\n",
    "ALPHA = 0.1\n",
    "\n",
    "\n",
    "angle_bins = np.linspace(ANGLE_MIN, ANGLE_MAX, N_ANGLE_BINS + 1)\n",
    "vel_bins = np.linspace(VEL_MIN, VEL_MAX, N_VELOCITY_BINS + 1)\n",
    "action_list = np.linspace(ACTION_MIN, ACTION_MAX, N_ACTIONS)\n"
   ]
  },
  {
   "cell_type": "markdown",
   "id": "11247721",
   "metadata": {},
   "source": [
    "\n",
    "FUNCIONES AUXILIARES\n"
   ]
  },
  {
   "cell_type": "code",
   "execution_count": 15,
   "id": "8b418e69",
   "metadata": {},
   "outputs": [],
   "source": [
    "\n",
    "# Discretiza el estado continuo (observación) en índices para la tabla Q\n",
    "def discretize_state(obs):\n",
    "    cos_theta, sin_theta, theta_dot = obs  # Extrae componentes de la observación\n",
    "    theta = np.arctan2(sin_theta, cos_theta)  # Calcula el ángulo a partir del seno y coseno\n",
    "    angle_idx = np.digitize(theta, angle_bins) - 1  # Asigna el ángulo a un intervalo discreto\n",
    "    vel_idx = np.digitize(theta_dot, vel_bins) - 1  # Discretiza la velocidad angular\n",
    "    angle_idx = np.clip(angle_idx, 0, N_ANGLE_BINS - 1)  # Asegura que el índice esté en rango válido\n",
    "    vel_idx = np.clip(vel_idx, 0, N_VELOCITY_BINS - 1)\n",
    "    return (angle_idx, vel_idx)  # Devuelve la tupla de estado discreto\n",
    "\n",
    "# Política epsilon-greedy: elige una acción aleatoria con probabilidad epsilon, si no elige la mejor\n",
    "def epsilon_greedy(Q, state, epsilon):\n",
    "    if np.random.rand() < epsilon:\n",
    "        return np.random.choice(N_ACTIONS)  # Exploración\n",
    "    else:\n",
    "        return np.argmax(Q[state])  # Explotación: acción con mayor valor Q\n",
    "\n",
    "# Aplica una posible perturbación aleatoria a la acción elegida\n",
    "def apply_perturbation(action):\n",
    "    if np.random.rand() < PERTURB_PROB:\n",
    "        return [np.random.choice(PERTURB_VALS)] \n",
    "    else:\n",
    "        return [action]  \n"
   ]
  },
  {
   "cell_type": "markdown",
   "id": "e6495e23",
   "metadata": {},
   "source": [
    "ALGORITMO DE Q-LEARNING"
   ]
  },
  {
   "cell_type": "code",
   "execution_count": 16,
   "id": "a58b400b",
   "metadata": {},
   "outputs": [],
   "source": [
    "def q_learning(env):\n",
    "    Q = defaultdict(lambda: np.zeros(N_ACTIONS))  # Inicializa tabla Q con ceros \n",
    "    returns = []  # Almacena el retorno total por episodio\n",
    "    epsilon = EPSILON_START  \n",
    "\n",
    "    for ep in range(1, NUM_EPISODES + 1):  \n",
    "        obs, _ = env.reset()  # Reinicia el entorno\n",
    "        state = discretize_state(obs)  # Discretiza la observación inicial\n",
    "        total_reward = 0  \n",
    "\n",
    "        for t in range(MAX_STEPS):  \n",
    "            action_idx = epsilon_greedy(Q, state, epsilon)  # Selecciona una acción con política epsilon-greedy\n",
    "            action = action_list[action_idx]  # Traduce índice de acción a valor real (continuo/discreto)\n",
    "\n",
    "            if PERTURBACIONES:  # Si hay perturbaciones\n",
    "                action = apply_perturbation(action)[0]\n",
    "\n",
    "            # Ejecuta la acción en el entorno\n",
    "            next_obs, reward, terminated, truncated, _ = env.step([action])\n",
    "            next_state = discretize_state(next_obs)\n",
    "            done = terminated or truncated  \n",
    "\n",
    "            # Q-learning update\n",
    "            best_next_action = np.argmax(Q[next_state])  # Acción con mayor valor en el siguiente estado\n",
    "            td_target = reward + GAMMA * Q[next_state][best_next_action]  # Cálculo del valor objetivo\n",
    "            td_error = td_target - Q[state][action_idx]  # Error\n",
    "            Q[state][action_idx] += ALPHA * td_error  # Actualiza la tabla Q\n",
    "\n",
    "            total_reward += reward\n",
    "            state = next_state  # Pasa al siguiente estado\n",
    "\n",
    "            if done:\n",
    "                break  \n",
    "\n",
    "        returns.append(total_reward)  # Guarda el retorno del episodio\n",
    "        epsilon = max(EPSILON_END, epsilon * EPSILON_DECAY)  \n",
    "\n",
    "        \n",
    "        if ep % 500 == 0:\n",
    "            print(f\"Episodio {ep}/{NUM_EPISODES}, retorno medio últimos 500: {np.mean(returns[-500:]):.2f}\")\n",
    "\n",
    "    return Q, returns  # Devuelve la tabla Q aprendida y los retornos por episodio\n",
    "\n"
   ]
  },
  {
   "cell_type": "markdown",
   "id": "42837507",
   "metadata": {},
   "source": [
    "EVALUACIÓN DE POLÍTICA"
   ]
  },
  {
   "cell_type": "code",
   "execution_count": 17,
   "id": "cd3935e3",
   "metadata": {},
   "outputs": [],
   "source": [
    "def evaluar_politica(policy_det, n_episodios=1000):\n",
    "    # Crea un entorno nuevo para evaluación. Modo 'human' si RENDER está activo, para visualizar\n",
    "    env_eval = gym.make(ENV_NAME, render_mode='human' if RENDER else None)\n",
    "    retornos = []  \n",
    "\n",
    "    for _ in range(n_episodios):\n",
    "        obs, _ = env_eval.reset()  # Reinicia el entorno\n",
    "        state = discretize_state(obs)  # Convierte la observación inicial al estado discreto\n",
    "        total_reward = 0 \n",
    "\n",
    "        for _ in range(MAX_STEPS):\n",
    "            # Obtiene la acción de la política aprendida (determinista), o aleatoria si no está en la política\n",
    "            action_idx = policy_det.get(state, np.random.choice(N_ACTIONS))\n",
    "            action = action_list[action_idx]  # Traduce el índice a acción real\n",
    "\n",
    "            # Ejecuta la acción en el entorno\n",
    "            obs, reward, terminated, truncated, _ = env_eval.step([action])\n",
    "            total_reward += reward\n",
    "            state = discretize_state(obs)  # Actualiza el estado\n",
    "\n",
    "            if terminated or truncated:  \n",
    "                break\n",
    "\n",
    "        retornos.append(total_reward)  # Guarda la recompensa total del episodio\n",
    "\n",
    "    env_eval.close()  # Cierra el entorno\n",
    "    return np.mean(retornos), np.std(retornos)  # Devuelve media y desviación estándar del desempeño\n"
   ]
  },
  {
   "cell_type": "markdown",
   "id": "a49978ab",
   "metadata": {},
   "source": [
    "VISUALIZACIÓN DE POLÍTICA"
   ]
  },
  {
   "cell_type": "code",
   "execution_count": 21,
   "id": "5355ac4b",
   "metadata": {},
   "outputs": [],
   "source": [
    "def visualizar_politica(policy_det, n_episodios=5):\n",
    "    env_vis = gym.make(ENV_NAME, render_mode='human')  # Crea el entorno con visualización activada\n",
    "\n",
    "    for ep in range(n_episodios):\n",
    "        obs, _ = env_vis.reset()  # Reinicia el entorno\n",
    "        state = discretize_state(obs)  # Convierte la observación en estado discreto\n",
    "        total_reward = 0  \n",
    "        print(f\"\\n[EPISODIO {ep+1}]\")  # Muestra inicio del episodio\n",
    "\n",
    "        for t in range(MAX_STEPS):\n",
    "            # Obtiene la acción de la política aprendida o elige aleatoria si el estado no existe\n",
    "            action_idx = policy_det.get(state, np.random.choice(N_ACTIONS))\n",
    "            action = action_list[action_idx]  # Traduce a acción real\n",
    "\n",
    "            # Ejecuta la acción y recibe nueva observación y recompensa\n",
    "            obs, reward, terminated, truncated, _ = env_vis.step([action])\n",
    "            total_reward += reward\n",
    "            state = discretize_state(obs)  # Actualiza el estado\n",
    "\n",
    "            env_vis.render()  # Muestra visualmente\n",
    "\n",
    "            if terminated or truncated:\n",
    "                break  \n",
    "\n",
    "        print(f\"Retorno del episodio {ep+1}: {total_reward:.2f}\")  # Muestra el retorno final del episodio\n",
    "        time.sleep(1)\n",
    "        \n",
    "    env_vis.close()  # Cierra el entorno\n"
   ]
  },
  {
   "cell_type": "markdown",
   "id": "30e38079",
   "metadata": {},
   "source": [
    "EJECUCIÓN ALGORITMO"
   ]
  },
  {
   "cell_type": "code",
   "execution_count": 22,
   "id": "242d83f3",
   "metadata": {},
   "outputs": [
    {
     "name": "stdout",
     "output_type": "stream",
     "text": [
      "Episodio 500/20000, retorno medio últimos 500: -1204.00\n",
      "Episodio 1000/20000, retorno medio últimos 500: -1133.63\n",
      "Episodio 1500/20000, retorno medio últimos 500: -881.92\n",
      "Episodio 2000/20000, retorno medio últimos 500: -758.70\n",
      "Episodio 2500/20000, retorno medio últimos 500: -679.97\n",
      "Episodio 3000/20000, retorno medio últimos 500: -528.56\n",
      "Episodio 3500/20000, retorno medio últimos 500: -527.18\n",
      "Episodio 4000/20000, retorno medio últimos 500: -445.40\n",
      "Episodio 4500/20000, retorno medio últimos 500: -390.39\n",
      "Episodio 5000/20000, retorno medio últimos 500: -451.17\n",
      "Episodio 5500/20000, retorno medio últimos 500: -350.53\n",
      "Episodio 6000/20000, retorno medio últimos 500: -338.93\n",
      "Episodio 6500/20000, retorno medio últimos 500: -384.89\n",
      "Episodio 7000/20000, retorno medio últimos 500: -352.27\n",
      "Episodio 7500/20000, retorno medio últimos 500: -287.47\n",
      "Episodio 8000/20000, retorno medio últimos 500: -272.19\n",
      "Episodio 8500/20000, retorno medio últimos 500: -257.39\n",
      "Episodio 9000/20000, retorno medio últimos 500: -242.92\n",
      "Episodio 9500/20000, retorno medio últimos 500: -241.03\n",
      "Episodio 10000/20000, retorno medio últimos 500: -237.40\n",
      "Episodio 10500/20000, retorno medio últimos 500: -229.46\n",
      "Episodio 11000/20000, retorno medio últimos 500: -249.08\n",
      "Episodio 11500/20000, retorno medio últimos 500: -245.01\n",
      "Episodio 12000/20000, retorno medio últimos 500: -230.36\n",
      "Episodio 12500/20000, retorno medio últimos 500: -188.46\n",
      "Episodio 13000/20000, retorno medio últimos 500: -213.24\n",
      "Episodio 13500/20000, retorno medio últimos 500: -189.18\n",
      "Episodio 14000/20000, retorno medio últimos 500: -199.50\n",
      "Episodio 14500/20000, retorno medio últimos 500: -215.45\n",
      "Episodio 15000/20000, retorno medio últimos 500: -212.53\n",
      "Episodio 15500/20000, retorno medio últimos 500: -199.40\n",
      "Episodio 16000/20000, retorno medio últimos 500: -194.78\n",
      "Episodio 16500/20000, retorno medio últimos 500: -194.69\n",
      "Episodio 17000/20000, retorno medio últimos 500: -198.93\n",
      "Episodio 17500/20000, retorno medio últimos 500: -198.93\n",
      "Episodio 18000/20000, retorno medio últimos 500: -204.06\n",
      "Episodio 18500/20000, retorno medio últimos 500: -195.44\n",
      "Episodio 19000/20000, retorno medio últimos 500: -180.67\n",
      "Episodio 19500/20000, retorno medio últimos 500: -190.01\n",
      "Episodio 20000/20000, retorno medio últimos 500: -174.30\n"
     ]
    }
   ],
   "source": [
    "\n",
    "env = gym.make(ENV_NAME, render_mode=None)\n",
    "Q, returns = q_learning(env)\n",
    "\n",
    "policy_det = {s: np.argmax(a) for s, a in Q.items()}\n",
    "\n",
    "os.makedirs('resultados', exist_ok=True)\n"
   ]
  },
  {
   "cell_type": "markdown",
   "id": "0da1933a",
   "metadata": {},
   "source": [
    "VISUALIZACIÓN DEL ENTRENAMIENTO POR GRÁFICO"
   ]
  },
  {
   "cell_type": "code",
   "execution_count": 23,
   "id": "4acee462",
   "metadata": {},
   "outputs": [
    {
     "data": {
      "image/png": "[encoded data removed]",
      "text/plain": [
       "<Figure size 640x480 with 1 Axes>"
      ]
     },
     "metadata": {},
     "output_type": "display_data"
    }
   ],
   "source": [
    "# Guardar gráfico\n",
    "plt.plot(returns)\n",
    "plt.xlabel('Episodios')\n",
    "plt.ylabel('Retorno')\n",
    "plt.title('Q-Learning - Pendulum-v1')\n",
    "plt.savefig('resultados/grafico_qlearning.png')\n",
    "plt.show()"
   ]
  },
  {
   "cell_type": "markdown",
   "id": "52e0a496",
   "metadata": {},
   "source": [
    "EVALUACIÓN"
   ]
  },
  {
   "cell_type": "code",
   "execution_count": 24,
   "id": "d69de506",
   "metadata": {},
   "outputs": [
    {
     "name": "stdout",
     "output_type": "stream",
     "text": [
      "\n",
      "Evaluación política final: Retorno medio = -189.13, Std = 111.86\n"
     ]
    }
   ],
   "source": [
    "# Evaluar\n",
    "media, std = evaluar_politica(policy_det)\n",
    "print(f\"\\nEvaluación política final: Retorno medio = {media:.2f}, Std = {std:.2f}\")\n"
   ]
  },
  {
   "cell_type": "markdown",
   "id": "b9c719de",
   "metadata": {},
   "source": [
    "VISUALIZACIÓN FINAL"
   ]
  },
  {
   "cell_type": "code",
   "execution_count": 25,
   "id": "36b7837c",
   "metadata": {},
   "outputs": [
    {
     "name": "stdout",
     "output_type": "stream",
     "text": [
      "\n",
      "[EPISODIO 1]\n",
      "Retorno del episodio 1: -123.11\n",
      "\n",
      "[EPISODIO 2]\n",
      "Retorno del episodio 2: -238.96\n",
      "\n",
      "[EPISODIO 3]\n",
      "Retorno del episodio 3: -362.72\n",
      "\n",
      "[EPISODIO 4]\n",
      "Retorno del episodio 4: -125.78\n",
      "\n",
      "[EPISODIO 5]\n",
      "Retorno del episodio 5: -129.45\n"
     ]
    }
   ],
   "source": [
    "# Visualizar política entrenada\n",
    "visualizar_politica(policy_det, n_episodios=5)"
   ]
  }
 ],
 "metadata": {
  "kernelspec": {
   "display_name": "base",
   "language": "python",
   "name": "python3"
  },
  "language_info": {
   "codemirror_mode": {
    "name": "ipython",
    "version": 3
   },
   "file_extension": ".py",
   "mimetype": "text/x-python",
   "name": "python",
   "nbconvert_exporter": "python",
   "pygments_lexer": "ipython3",
   "version": "3.12.3"
  }
 },
 "nbformat": 4,
 "nbformat_minor": 5
}
